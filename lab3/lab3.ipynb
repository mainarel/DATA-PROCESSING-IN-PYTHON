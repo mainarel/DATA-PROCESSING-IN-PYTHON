{
 "cells": [
  {
   "cell_type": "markdown",
   "metadata": {},
   "source": [
    "ЛР 3. Задание\n",
    "https://api.hh.ru/vacancies?text=DATA+ENGINEER&area=1&search_field=name"
   ]
  },
  {
   "cell_type": "code",
   "execution_count": 143,
   "metadata": {},
   "outputs": [],
   "source": [
    "import requests\n",
    "import pandas as pd\n",
    "import re\n",
    "import scipy.stats as st\n",
    "import numpy as np"
   ]
  },
  {
   "cell_type": "markdown",
   "metadata": {},
   "source": [
    "### 1. Скачать 200 вакансий разработчик Питон из г. Москвы + 200 вакансий из г. Санкт-Петербург\n",
    "### 2. Полученные json объединить в один датафрейм pandas"
   ]
  },
  {
   "cell_type": "code",
   "execution_count": 144,
   "metadata": {},
   "outputs": [],
   "source": [
    "URL = \"https://api.hh.ru/vacancies?text=разработчик+Python&area={}&search_field=name&per_page=100\"\n",
    "\n",
    "df = pd.DataFrame()\n",
    "for j in range(1, 3):\n",
    "    for i in range(2):\n",
    "        df_some = pd.concat(\n",
    "            [\n",
    "                df,\n",
    "                (\n",
    "                    pd.json_normalize(\n",
    "                        requests.get(URL.format(str(j)) + \"&page=\" + str(i)).json()[\n",
    "                            \"items\"\n",
    "                        ]\n",
    "                    )\n",
    "                ),\n",
    "            ]\n",
    "        )"
   ]
  },
  {
   "cell_type": "code",
   "execution_count": 169,
   "metadata": {},
   "outputs": [
    {
     "data": {
      "text/html": [
       "<div>\n",
       "<style scoped>\n",
       "    .dataframe tbody tr th:only-of-type {\n",
       "        vertical-align: middle;\n",
       "    }\n",
       "\n",
       "    .dataframe tbody tr th {\n",
       "        vertical-align: top;\n",
       "    }\n",
       "\n",
       "    .dataframe thead th {\n",
       "        text-align: right;\n",
       "    }\n",
       "</style>\n",
       "<table border=\"1\" class=\"dataframe\">\n",
       "  <thead>\n",
       "    <tr style=\"text-align: right;\">\n",
       "      <th></th>\n",
       "      <th>id</th>\n",
       "      <th>name</th>\n",
       "      <th>area.name</th>\n",
       "      <th>salary.from</th>\n",
       "      <th>salary.to</th>\n",
       "      <th>salary.currency</th>\n",
       "      <th>salary.gross</th>\n",
       "      <th>snippet.requirement</th>\n",
       "      <th>snippet.responsibility</th>\n",
       "      <th>employer.accredited_it_employer</th>\n",
       "      <th>schedule.id</th>\n",
       "      <th>experience.id</th>\n",
       "    </tr>\n",
       "  </thead>\n",
       "  <tbody>\n",
       "    <tr>\n",
       "      <th>0</th>\n",
       "      <td>100389204</td>\n",
       "      <td>Разработчик Python (junior)</td>\n",
       "      <td>Москва</td>\n",
       "      <td>60000.0</td>\n",
       "      <td>70000.0</td>\n",
       "      <td>RUR</td>\n",
       "      <td>False</td>\n",
       "      <td>Высшее техническое образование. Опыт программи...</td>\n",
       "      <td>Поддержка и развитие существующего кода бекенд...</td>\n",
       "      <td>False</td>\n",
       "      <td>fullDay</td>\n",
       "      <td>between1And3</td>\n",
       "    </tr>\n",
       "    <tr>\n",
       "      <th>1</th>\n",
       "      <td>101143108</td>\n",
       "      <td>Junior Python разработчик</td>\n",
       "      <td>Москва</td>\n",
       "      <td>NaN</td>\n",
       "      <td>NaN</td>\n",
       "      <td>NaN</td>\n",
       "      <td>NaN</td>\n",
       "      <td>Высшее техническое образование. Опыт программи...</td>\n",
       "      <td>Разработка и поддержка fullstack - решений, вк...</td>\n",
       "      <td>False</td>\n",
       "      <td>fullDay</td>\n",
       "      <td>noExperience</td>\n",
       "    </tr>\n",
       "    <tr>\n",
       "      <th>2</th>\n",
       "      <td>101350542</td>\n",
       "      <td>Python разработчик (Intern)</td>\n",
       "      <td>Москва</td>\n",
       "      <td>NaN</td>\n",
       "      <td>NaN</td>\n",
       "      <td>NaN</td>\n",
       "      <td>NaN</td>\n",
       "      <td>Знание &lt;highlighttext&gt;Python&lt;/highlighttext&gt;, ...</td>\n",
       "      <td>Разработка ботов, на языке &lt;highlighttext&gt;Pyth...</td>\n",
       "      <td>False</td>\n",
       "      <td>remote</td>\n",
       "      <td>noExperience</td>\n",
       "    </tr>\n",
       "    <tr>\n",
       "      <th>3</th>\n",
       "      <td>101287826</td>\n",
       "      <td>Junior Python developer</td>\n",
       "      <td>Москва</td>\n",
       "      <td>NaN</td>\n",
       "      <td>NaN</td>\n",
       "      <td>NaN</td>\n",
       "      <td>NaN</td>\n",
       "      <td>Знание английского языка на уровне, достаточно...</td>\n",
       "      <td>Разработка отдельных модулей для сервисов. Реш...</td>\n",
       "      <td>True</td>\n",
       "      <td>fullDay</td>\n",
       "      <td>between1And3</td>\n",
       "    </tr>\n",
       "    <tr>\n",
       "      <th>4</th>\n",
       "      <td>98919945</td>\n",
       "      <td>Junior Python-разработчик</td>\n",
       "      <td>Москва</td>\n",
       "      <td>40000.0</td>\n",
       "      <td>60000.0</td>\n",
       "      <td>RUR</td>\n",
       "      <td>True</td>\n",
       "      <td>Уверенное владение языком программирования &lt;hi...</td>\n",
       "      <td>Разработка и тестирование backend-части програ...</td>\n",
       "      <td>False</td>\n",
       "      <td>flexible</td>\n",
       "      <td>noExperience</td>\n",
       "    </tr>\n",
       "  </tbody>\n",
       "</table>\n",
       "</div>"
      ],
      "text/plain": [
       "          id                         name area.name  salary.from  salary.to  \\\n",
       "0  100389204  Разработчик Python (junior)    Москва      60000.0    70000.0   \n",
       "1  101143108    Junior Python разработчик    Москва          NaN        NaN   \n",
       "2  101350542  Python разработчик (Intern)    Москва          NaN        NaN   \n",
       "3  101287826      Junior Python developer    Москва          NaN        NaN   \n",
       "4   98919945    Junior Python-разработчик    Москва      40000.0    60000.0   \n",
       "\n",
       "  salary.currency salary.gross  \\\n",
       "0             RUR        False   \n",
       "1             NaN          NaN   \n",
       "2             NaN          NaN   \n",
       "3             NaN          NaN   \n",
       "4             RUR         True   \n",
       "\n",
       "                                 snippet.requirement  \\\n",
       "0  Высшее техническое образование. Опыт программи...   \n",
       "1  Высшее техническое образование. Опыт программи...   \n",
       "2  Знание <highlighttext>Python</highlighttext>, ...   \n",
       "3  Знание английского языка на уровне, достаточно...   \n",
       "4  Уверенное владение языком программирования <hi...   \n",
       "\n",
       "                              snippet.responsibility  \\\n",
       "0  Поддержка и развитие существующего кода бекенд...   \n",
       "1  Разработка и поддержка fullstack - решений, вк...   \n",
       "2  Разработка ботов, на языке <highlighttext>Pyth...   \n",
       "3  Разработка отдельных модулей для сервисов. Реш...   \n",
       "4  Разработка и тестирование backend-части програ...   \n",
       "\n",
       "   employer.accredited_it_employer schedule.id experience.id  \n",
       "0                            False     fullDay  between1And3  \n",
       "1                            False     fullDay  noExperience  \n",
       "2                            False      remote  noExperience  \n",
       "3                             True     fullDay  between1And3  \n",
       "4                            False    flexible  noExperience  "
      ]
     },
     "execution_count": 169,
     "metadata": {},
     "output_type": "execute_result"
    }
   ],
   "source": [
    "df_some = df[\n",
    "    [\n",
    "        \"id\",\n",
    "        \"name\",\n",
    "        \"area.name\",\n",
    "        \"salary.from\",\n",
    "        \"salary.to\",\n",
    "        \"salary.currency\",\n",
    "        \"salary.gross\",\n",
    "        \"snippet.requirement\",\n",
    "        \"snippet.responsibility\",\n",
    "        \"employer.accredited_it_employer\",\n",
    "        \"schedule.id\",\n",
    "        \"experience.id\",\n",
    "    ]\n",
    "].copy()\n",
    "\n",
    "df_some.head()"
   ]
  },
  {
   "cell_type": "code",
   "execution_count": 171,
   "metadata": {},
   "outputs": [
    {
     "name": "stdout",
     "output_type": "stream",
     "text": [
      "<class 'pandas.core.frame.DataFrame'>\n",
      "Index: 320 entries, 0 to 19\n",
      "Data columns (total 12 columns):\n",
      " #   Column                           Non-Null Count  Dtype  \n",
      "---  ------                           --------------  -----  \n",
      " 0   id                               320 non-null    object \n",
      " 1   name                             320 non-null    object \n",
      " 2   area.name                        320 non-null    object \n",
      " 3   salary.from                      75 non-null     float64\n",
      " 4   salary.to                        58 non-null     float64\n",
      " 5   salary.currency                  91 non-null     object \n",
      " 6   salary.gross                     91 non-null     object \n",
      " 7   snippet.requirement              320 non-null    object \n",
      " 8   snippet.responsibility           314 non-null    object \n",
      " 9   employer.accredited_it_employer  320 non-null    bool   \n",
      " 10  schedule.id                      320 non-null    object \n",
      " 11  experience.id                    320 non-null    object \n",
      "dtypes: bool(1), float64(2), object(9)\n",
      "memory usage: 30.3+ KB\n"
     ]
    }
   ],
   "source": [
    "df_some.info()"
   ]
  },
  {
   "cell_type": "markdown",
   "metadata": {},
   "source": [
    "### 3. По вакансиям с известными зп усреднить зп по мин и макс"
   ]
  },
  {
   "cell_type": "markdown",
   "metadata": {},
   "source": [
    "Вычисляем значение зарплаты исходя их известных границ"
   ]
  },
  {
   "cell_type": "code",
   "execution_count": 174,
   "metadata": {},
   "outputs": [],
   "source": [
    "df_some[\"salary.mean\"] = (df_some[\"salary.from\"] + df_some[\"salary.to\"]) / 2\n",
    "\n",
    "\n",
    "def calc_salaty(row):\n",
    "\n",
    "    if (row[\"salary.to\"] > 0) and (row[\"salary.from\"] > 0):\n",
    "        return row[\"salary.mean\"]\n",
    "\n",
    "    elif row[\"salary.to\"] > 0:\n",
    "        return row[\"salary.to\"]\n",
    "\n",
    "    elif row[\"salary.from\"] > 0:\n",
    "        return row[\"salary.from\"]\n",
    "\n",
    "    else:\n",
    "        return np.nan\n",
    "\n",
    "\n",
    "df_some[\"salary\"] = df_some.apply(calc_salaty, axis=1)"
   ]
  },
  {
   "cell_type": "code",
   "execution_count": 175,
   "metadata": {},
   "outputs": [
    {
     "data": {
      "text/html": [
       "<div>\n",
       "<style scoped>\n",
       "    .dataframe tbody tr th:only-of-type {\n",
       "        vertical-align: middle;\n",
       "    }\n",
       "\n",
       "    .dataframe tbody tr th {\n",
       "        vertical-align: top;\n",
       "    }\n",
       "\n",
       "    .dataframe thead th {\n",
       "        text-align: right;\n",
       "    }\n",
       "</style>\n",
       "<table border=\"1\" class=\"dataframe\">\n",
       "  <thead>\n",
       "    <tr style=\"text-align: right;\">\n",
       "      <th></th>\n",
       "      <th>salary.from</th>\n",
       "      <th>salary.to</th>\n",
       "      <th>salary.mean</th>\n",
       "      <th>salary</th>\n",
       "    </tr>\n",
       "  </thead>\n",
       "  <tbody>\n",
       "    <tr>\n",
       "      <th>0</th>\n",
       "      <td>60000.0</td>\n",
       "      <td>70000.0</td>\n",
       "      <td>65000.0</td>\n",
       "      <td>65000.0</td>\n",
       "    </tr>\n",
       "    <tr>\n",
       "      <th>1</th>\n",
       "      <td>NaN</td>\n",
       "      <td>NaN</td>\n",
       "      <td>NaN</td>\n",
       "      <td>NaN</td>\n",
       "    </tr>\n",
       "    <tr>\n",
       "      <th>2</th>\n",
       "      <td>NaN</td>\n",
       "      <td>NaN</td>\n",
       "      <td>NaN</td>\n",
       "      <td>NaN</td>\n",
       "    </tr>\n",
       "    <tr>\n",
       "      <th>3</th>\n",
       "      <td>NaN</td>\n",
       "      <td>NaN</td>\n",
       "      <td>NaN</td>\n",
       "      <td>NaN</td>\n",
       "    </tr>\n",
       "    <tr>\n",
       "      <th>4</th>\n",
       "      <td>40000.0</td>\n",
       "      <td>60000.0</td>\n",
       "      <td>50000.0</td>\n",
       "      <td>50000.0</td>\n",
       "    </tr>\n",
       "    <tr>\n",
       "      <th>...</th>\n",
       "      <td>...</td>\n",
       "      <td>...</td>\n",
       "      <td>...</td>\n",
       "      <td>...</td>\n",
       "    </tr>\n",
       "    <tr>\n",
       "      <th>15</th>\n",
       "      <td>NaN</td>\n",
       "      <td>NaN</td>\n",
       "      <td>NaN</td>\n",
       "      <td>NaN</td>\n",
       "    </tr>\n",
       "    <tr>\n",
       "      <th>16</th>\n",
       "      <td>NaN</td>\n",
       "      <td>NaN</td>\n",
       "      <td>NaN</td>\n",
       "      <td>NaN</td>\n",
       "    </tr>\n",
       "    <tr>\n",
       "      <th>17</th>\n",
       "      <td>350000.0</td>\n",
       "      <td>NaN</td>\n",
       "      <td>NaN</td>\n",
       "      <td>350000.0</td>\n",
       "    </tr>\n",
       "    <tr>\n",
       "      <th>18</th>\n",
       "      <td>NaN</td>\n",
       "      <td>NaN</td>\n",
       "      <td>NaN</td>\n",
       "      <td>NaN</td>\n",
       "    </tr>\n",
       "    <tr>\n",
       "      <th>19</th>\n",
       "      <td>NaN</td>\n",
       "      <td>NaN</td>\n",
       "      <td>NaN</td>\n",
       "      <td>NaN</td>\n",
       "    </tr>\n",
       "  </tbody>\n",
       "</table>\n",
       "<p>320 rows × 4 columns</p>\n",
       "</div>"
      ],
      "text/plain": [
       "    salary.from  salary.to  salary.mean    salary\n",
       "0       60000.0    70000.0      65000.0   65000.0\n",
       "1           NaN        NaN          NaN       NaN\n",
       "2           NaN        NaN          NaN       NaN\n",
       "3           NaN        NaN          NaN       NaN\n",
       "4       40000.0    60000.0      50000.0   50000.0\n",
       "..          ...        ...          ...       ...\n",
       "15          NaN        NaN          NaN       NaN\n",
       "16          NaN        NaN          NaN       NaN\n",
       "17     350000.0        NaN          NaN  350000.0\n",
       "18          NaN        NaN          NaN       NaN\n",
       "19          NaN        NaN          NaN       NaN\n",
       "\n",
       "[320 rows x 4 columns]"
      ]
     },
     "execution_count": 175,
     "metadata": {},
     "output_type": "execute_result"
    }
   ],
   "source": [
    "df_some[[\"salary.from\", \"salary.to\", \"salary.mean\", \"salary\"]]"
   ]
  },
  {
   "cell_type": "markdown",
   "metadata": {},
   "source": [
    "### 4. По вакансиям с неизвестными зп попытаться восстановить пропущенные значения"
   ]
  },
  {
   "cell_type": "code",
   "execution_count": 176,
   "metadata": {},
   "outputs": [],
   "source": [
    "from sklearn.linear_model import LinearRegression"
   ]
  },
  {
   "cell_type": "code",
   "execution_count": 177,
   "metadata": {},
   "outputs": [
    {
     "data": {
      "text/html": [
       "<div>\n",
       "<style scoped>\n",
       "    .dataframe tbody tr th:only-of-type {\n",
       "        vertical-align: middle;\n",
       "    }\n",
       "\n",
       "    .dataframe tbody tr th {\n",
       "        vertical-align: top;\n",
       "    }\n",
       "\n",
       "    .dataframe thead th {\n",
       "        text-align: right;\n",
       "    }\n",
       "</style>\n",
       "<table border=\"1\" class=\"dataframe\">\n",
       "  <thead>\n",
       "    <tr style=\"text-align: right;\">\n",
       "      <th></th>\n",
       "      <th>salary</th>\n",
       "      <th>employer.accredited_it_employer</th>\n",
       "      <th>area.name_Москва</th>\n",
       "      <th>area.name_Санкт-Петербург</th>\n",
       "      <th>salary.currency_EUR</th>\n",
       "      <th>salary.currency_RUR</th>\n",
       "      <th>salary.currency_USD</th>\n",
       "      <th>salary.gross_False</th>\n",
       "      <th>salary.gross_True</th>\n",
       "      <th>schedule.id_flexible</th>\n",
       "      <th>schedule.id_fullDay</th>\n",
       "      <th>schedule.id_remote</th>\n",
       "      <th>experience.id_between1And3</th>\n",
       "      <th>experience.id_between3And6</th>\n",
       "      <th>experience.id_moreThan6</th>\n",
       "      <th>experience.id_noExperience</th>\n",
       "    </tr>\n",
       "  </thead>\n",
       "  <tbody>\n",
       "    <tr>\n",
       "      <th>0</th>\n",
       "      <td>65000.0</td>\n",
       "      <td>False</td>\n",
       "      <td>True</td>\n",
       "      <td>False</td>\n",
       "      <td>False</td>\n",
       "      <td>True</td>\n",
       "      <td>False</td>\n",
       "      <td>True</td>\n",
       "      <td>False</td>\n",
       "      <td>False</td>\n",
       "      <td>True</td>\n",
       "      <td>False</td>\n",
       "      <td>True</td>\n",
       "      <td>False</td>\n",
       "      <td>False</td>\n",
       "      <td>False</td>\n",
       "    </tr>\n",
       "    <tr>\n",
       "      <th>1</th>\n",
       "      <td>NaN</td>\n",
       "      <td>False</td>\n",
       "      <td>True</td>\n",
       "      <td>False</td>\n",
       "      <td>False</td>\n",
       "      <td>False</td>\n",
       "      <td>False</td>\n",
       "      <td>False</td>\n",
       "      <td>False</td>\n",
       "      <td>False</td>\n",
       "      <td>True</td>\n",
       "      <td>False</td>\n",
       "      <td>False</td>\n",
       "      <td>False</td>\n",
       "      <td>False</td>\n",
       "      <td>True</td>\n",
       "    </tr>\n",
       "    <tr>\n",
       "      <th>2</th>\n",
       "      <td>NaN</td>\n",
       "      <td>False</td>\n",
       "      <td>True</td>\n",
       "      <td>False</td>\n",
       "      <td>False</td>\n",
       "      <td>False</td>\n",
       "      <td>False</td>\n",
       "      <td>False</td>\n",
       "      <td>False</td>\n",
       "      <td>False</td>\n",
       "      <td>False</td>\n",
       "      <td>True</td>\n",
       "      <td>False</td>\n",
       "      <td>False</td>\n",
       "      <td>False</td>\n",
       "      <td>True</td>\n",
       "    </tr>\n",
       "    <tr>\n",
       "      <th>3</th>\n",
       "      <td>NaN</td>\n",
       "      <td>True</td>\n",
       "      <td>True</td>\n",
       "      <td>False</td>\n",
       "      <td>False</td>\n",
       "      <td>False</td>\n",
       "      <td>False</td>\n",
       "      <td>False</td>\n",
       "      <td>False</td>\n",
       "      <td>False</td>\n",
       "      <td>True</td>\n",
       "      <td>False</td>\n",
       "      <td>True</td>\n",
       "      <td>False</td>\n",
       "      <td>False</td>\n",
       "      <td>False</td>\n",
       "    </tr>\n",
       "    <tr>\n",
       "      <th>4</th>\n",
       "      <td>50000.0</td>\n",
       "      <td>False</td>\n",
       "      <td>True</td>\n",
       "      <td>False</td>\n",
       "      <td>False</td>\n",
       "      <td>True</td>\n",
       "      <td>False</td>\n",
       "      <td>False</td>\n",
       "      <td>True</td>\n",
       "      <td>True</td>\n",
       "      <td>False</td>\n",
       "      <td>False</td>\n",
       "      <td>False</td>\n",
       "      <td>False</td>\n",
       "      <td>False</td>\n",
       "      <td>True</td>\n",
       "    </tr>\n",
       "    <tr>\n",
       "      <th>...</th>\n",
       "      <td>...</td>\n",
       "      <td>...</td>\n",
       "      <td>...</td>\n",
       "      <td>...</td>\n",
       "      <td>...</td>\n",
       "      <td>...</td>\n",
       "      <td>...</td>\n",
       "      <td>...</td>\n",
       "      <td>...</td>\n",
       "      <td>...</td>\n",
       "      <td>...</td>\n",
       "      <td>...</td>\n",
       "      <td>...</td>\n",
       "      <td>...</td>\n",
       "      <td>...</td>\n",
       "      <td>...</td>\n",
       "    </tr>\n",
       "    <tr>\n",
       "      <th>15</th>\n",
       "      <td>NaN</td>\n",
       "      <td>True</td>\n",
       "      <td>False</td>\n",
       "      <td>True</td>\n",
       "      <td>False</td>\n",
       "      <td>False</td>\n",
       "      <td>False</td>\n",
       "      <td>False</td>\n",
       "      <td>False</td>\n",
       "      <td>False</td>\n",
       "      <td>True</td>\n",
       "      <td>False</td>\n",
       "      <td>False</td>\n",
       "      <td>True</td>\n",
       "      <td>False</td>\n",
       "      <td>False</td>\n",
       "    </tr>\n",
       "    <tr>\n",
       "      <th>16</th>\n",
       "      <td>NaN</td>\n",
       "      <td>True</td>\n",
       "      <td>False</td>\n",
       "      <td>True</td>\n",
       "      <td>False</td>\n",
       "      <td>False</td>\n",
       "      <td>False</td>\n",
       "      <td>False</td>\n",
       "      <td>False</td>\n",
       "      <td>False</td>\n",
       "      <td>True</td>\n",
       "      <td>False</td>\n",
       "      <td>False</td>\n",
       "      <td>True</td>\n",
       "      <td>False</td>\n",
       "      <td>False</td>\n",
       "    </tr>\n",
       "    <tr>\n",
       "      <th>17</th>\n",
       "      <td>350000.0</td>\n",
       "      <td>False</td>\n",
       "      <td>False</td>\n",
       "      <td>True</td>\n",
       "      <td>False</td>\n",
       "      <td>True</td>\n",
       "      <td>False</td>\n",
       "      <td>True</td>\n",
       "      <td>False</td>\n",
       "      <td>False</td>\n",
       "      <td>True</td>\n",
       "      <td>False</td>\n",
       "      <td>False</td>\n",
       "      <td>True</td>\n",
       "      <td>False</td>\n",
       "      <td>False</td>\n",
       "    </tr>\n",
       "    <tr>\n",
       "      <th>18</th>\n",
       "      <td>NaN</td>\n",
       "      <td>False</td>\n",
       "      <td>False</td>\n",
       "      <td>True</td>\n",
       "      <td>False</td>\n",
       "      <td>False</td>\n",
       "      <td>False</td>\n",
       "      <td>False</td>\n",
       "      <td>False</td>\n",
       "      <td>False</td>\n",
       "      <td>False</td>\n",
       "      <td>True</td>\n",
       "      <td>False</td>\n",
       "      <td>True</td>\n",
       "      <td>False</td>\n",
       "      <td>False</td>\n",
       "    </tr>\n",
       "    <tr>\n",
       "      <th>19</th>\n",
       "      <td>NaN</td>\n",
       "      <td>True</td>\n",
       "      <td>False</td>\n",
       "      <td>True</td>\n",
       "      <td>False</td>\n",
       "      <td>False</td>\n",
       "      <td>False</td>\n",
       "      <td>False</td>\n",
       "      <td>False</td>\n",
       "      <td>False</td>\n",
       "      <td>True</td>\n",
       "      <td>False</td>\n",
       "      <td>False</td>\n",
       "      <td>False</td>\n",
       "      <td>True</td>\n",
       "      <td>False</td>\n",
       "    </tr>\n",
       "  </tbody>\n",
       "</table>\n",
       "<p>320 rows × 16 columns</p>\n",
       "</div>"
      ],
      "text/plain": [
       "      salary  employer.accredited_it_employer  area.name_Москва  \\\n",
       "0    65000.0                            False              True   \n",
       "1        NaN                            False              True   \n",
       "2        NaN                            False              True   \n",
       "3        NaN                             True              True   \n",
       "4    50000.0                            False              True   \n",
       "..       ...                              ...               ...   \n",
       "15       NaN                             True             False   \n",
       "16       NaN                             True             False   \n",
       "17  350000.0                            False             False   \n",
       "18       NaN                            False             False   \n",
       "19       NaN                             True             False   \n",
       "\n",
       "    area.name_Санкт-Петербург  salary.currency_EUR  salary.currency_RUR  \\\n",
       "0                       False                False                 True   \n",
       "1                       False                False                False   \n",
       "2                       False                False                False   \n",
       "3                       False                False                False   \n",
       "4                       False                False                 True   \n",
       "..                        ...                  ...                  ...   \n",
       "15                       True                False                False   \n",
       "16                       True                False                False   \n",
       "17                       True                False                 True   \n",
       "18                       True                False                False   \n",
       "19                       True                False                False   \n",
       "\n",
       "    salary.currency_USD  salary.gross_False  salary.gross_True  \\\n",
       "0                 False                True              False   \n",
       "1                 False               False              False   \n",
       "2                 False               False              False   \n",
       "3                 False               False              False   \n",
       "4                 False               False               True   \n",
       "..                  ...                 ...                ...   \n",
       "15                False               False              False   \n",
       "16                False               False              False   \n",
       "17                False                True              False   \n",
       "18                False               False              False   \n",
       "19                False               False              False   \n",
       "\n",
       "    schedule.id_flexible  schedule.id_fullDay  schedule.id_remote  \\\n",
       "0                  False                 True               False   \n",
       "1                  False                 True               False   \n",
       "2                  False                False                True   \n",
       "3                  False                 True               False   \n",
       "4                   True                False               False   \n",
       "..                   ...                  ...                 ...   \n",
       "15                 False                 True               False   \n",
       "16                 False                 True               False   \n",
       "17                 False                 True               False   \n",
       "18                 False                False                True   \n",
       "19                 False                 True               False   \n",
       "\n",
       "    experience.id_between1And3  experience.id_between3And6  \\\n",
       "0                         True                       False   \n",
       "1                        False                       False   \n",
       "2                        False                       False   \n",
       "3                         True                       False   \n",
       "4                        False                       False   \n",
       "..                         ...                         ...   \n",
       "15                       False                        True   \n",
       "16                       False                        True   \n",
       "17                       False                        True   \n",
       "18                       False                        True   \n",
       "19                       False                       False   \n",
       "\n",
       "    experience.id_moreThan6  experience.id_noExperience  \n",
       "0                     False                       False  \n",
       "1                     False                        True  \n",
       "2                     False                        True  \n",
       "3                     False                       False  \n",
       "4                     False                        True  \n",
       "..                      ...                         ...  \n",
       "15                    False                       False  \n",
       "16                    False                       False  \n",
       "17                    False                       False  \n",
       "18                    False                       False  \n",
       "19                     True                       False  \n",
       "\n",
       "[320 rows x 16 columns]"
      ]
     },
     "execution_count": 177,
     "metadata": {},
     "output_type": "execute_result"
    }
   ],
   "source": [
    "X = pd.get_dummies(\n",
    "    df_some[\n",
    "        [\n",
    "            \"salary\",\n",
    "            \"area.name\",\n",
    "            \"salary.currency\",\n",
    "            \"salary.gross\",\n",
    "            \"employer.accredited_it_employer\",\n",
    "            \"schedule.id\",\n",
    "            \"experience.id\",\n",
    "        ]\n",
    "    ]\n",
    ")\n",
    "X"
   ]
  },
  {
   "cell_type": "markdown",
   "metadata": {},
   "source": [
    "Отбиарем признаки для линейной регрессии"
   ]
  },
  {
   "cell_type": "code",
   "execution_count": 198,
   "metadata": {},
   "outputs": [],
   "source": [
    "X_train = X.loc[pd.notnull(X[\"salary\"]), X.columns[1:]]\n",
    "\n",
    "Y_train = df_some.loc[pd.notnull(df_some[\"salary\"]), \"salary\"]\n",
    "\n",
    "Y_train_log = np.log1p(Y_train)"
   ]
  },
  {
   "cell_type": "code",
   "execution_count": 187,
   "metadata": {},
   "outputs": [
    {
     "data": {
      "text/plain": [
       "((91, 15), (91,))"
      ]
     },
     "execution_count": 187,
     "metadata": {},
     "output_type": "execute_result"
    }
   ],
   "source": [
    "X_train.shape, Y_train.shape"
   ]
  },
  {
   "cell_type": "code",
   "execution_count": 199,
   "metadata": {},
   "outputs": [],
   "source": [
    "model = LinearRegression()\n",
    "# results = model.fit(X_train, Y_train)\n",
    "results = model.fit(X_train, Y_train_log)"
   ]
  },
  {
   "cell_type": "code",
   "execution_count": 200,
   "metadata": {},
   "outputs": [
    {
     "data": {
      "text/plain": [
       "(array([-0.03670987,  0.02527171, -0.02527171, -1.61535464,  2.72640824,\n",
       "        -1.1110536 , -0.01518489,  0.01518489, -0.15387959,  0.07741674,\n",
       "         0.07646285, -0.3826759 ,  0.07514354,  0.5254797 , -0.21794734]),\n",
       " 9.415380150574128)"
      ]
     },
     "execution_count": 200,
     "metadata": {},
     "output_type": "execute_result"
    }
   ],
   "source": [
    "results.coef_, results.intercept_"
   ]
  },
  {
   "cell_type": "code",
   "execution_count": 201,
   "metadata": {},
   "outputs": [],
   "source": [
    "# df_some[\"Predicted salary\"] = model.predict(X.iloc[:, 1:])\n",
    "df_some[\"Predicted salary\"] = np.expm1(model.predict(X.iloc[:, 1:]))"
   ]
  },
  {
   "cell_type": "code",
   "execution_count": 202,
   "metadata": {},
   "outputs": [],
   "source": [
    "from sklearn.metrics import mean_absolute_error"
   ]
  },
  {
   "cell_type": "code",
   "execution_count": 203,
   "metadata": {},
   "outputs": [
    {
     "data": {
      "text/plain": [
       "41704.04318999329"
      ]
     },
     "execution_count": 203,
     "metadata": {},
     "output_type": "execute_result"
    }
   ],
   "source": [
    "mean_absolute_error(\n",
    "    df_some.dropna()[\"salary\"],\n",
    "    df_some.dropna()[\"Predicted salary\"],\n",
    ")"
   ]
  },
  {
   "cell_type": "code",
   "execution_count": 208,
   "metadata": {},
   "outputs": [
    {
     "data": {
      "text/plain": [
       "count        91.000000\n",
       "mean     189277.472527\n",
       "std      125905.577774\n",
       "min        3750.000000\n",
       "25%      120000.000000\n",
       "50%      165000.000000\n",
       "75%      207500.000000\n",
       "max      700000.000000\n",
       "Name: salary, dtype: float64"
      ]
     },
     "execution_count": 208,
     "metadata": {},
     "output_type": "execute_result"
    }
   ],
   "source": [
    "df_some[\"salary\"].describe()"
   ]
  },
  {
   "cell_type": "code",
   "execution_count": 205,
   "metadata": {},
   "outputs": [
    {
     "data": {
      "text/plain": [
       "count       320.000000\n",
       "mean      57748.204229\n",
       "std       79844.975797\n",
       "min        4500.000000\n",
       "25%        9276.920317\n",
       "50%       14121.836519\n",
       "75%      132634.135036\n",
       "max      356874.205160\n",
       "Name: Predicted salary, dtype: float64"
      ]
     },
     "execution_count": 205,
     "metadata": {},
     "output_type": "execute_result"
    }
   ],
   "source": [
    "df_some[\"Predicted salary\"].describe()"
   ]
  },
  {
   "cell_type": "markdown",
   "metadata": {},
   "source": [
    "Собираем известные и предсказанные значения зарплаты"
   ]
  },
  {
   "cell_type": "code",
   "execution_count": 210,
   "metadata": {},
   "outputs": [],
   "source": [
    "df_some[\"salary.full\"] = df_some[\"salary\"].fillna(df_some[\"Predicted salary\"])"
   ]
  },
  {
   "cell_type": "markdown",
   "metadata": {},
   "source": [
    "### 5. Построить ящичковую диаграмму по распределению зп внутри города"
   ]
  },
  {
   "cell_type": "code",
   "execution_count": 214,
   "metadata": {},
   "outputs": [],
   "source": [
    "import matplotlib.pyplot as plt\n",
    "import seaborn as sns"
   ]
  },
  {
   "cell_type": "code",
   "execution_count": 220,
   "metadata": {},
   "outputs": [
    {
     "data": {
      "image/png": "[encoded data removed]",
      "text/plain": [
       "<Figure size 640x480 with 1 Axes>"
      ]
     },
     "metadata": {},
     "output_type": "display_data"
    }
   ],
   "source": [
    "sns.boxplot(x=\"area.name\", y=\"salary.full\", data=df_some)\n",
    "plt.title(\"Salary Distribution by City\")\n",
    "plt.xlabel(\"City\")\n",
    "plt.ylabel(\"Salary\")\n",
    "plt.show()"
   ]
  },
  {
   "cell_type": "code",
   "execution_count": 219,
   "metadata": {},
   "outputs": [
    {
     "data": {
      "image/png": "[encoded data removed]",
      "text/plain": [
       "<Figure size 640x480 with 1 Axes>"
      ]
     },
     "metadata": {},
     "output_type": "display_data"
    }
   ],
   "source": [
    "sns.boxplot(x=\"area.name\", y=\"salary.full\", data=df_some, showfliers=False)\n",
    "plt.title(\"Salary Distribution by City\")\n",
    "plt.xlabel(\"City\")\n",
    "plt.ylabel(\"Salary\")\n",
    "plt.show()"
   ]
  },
  {
   "cell_type": "markdown",
   "metadata": {},
   "source": [
    "Есть довольно низкие значения, связанные с указанием зарплаты не в рублях"
   ]
  },
  {
   "cell_type": "code",
   "execution_count": 231,
   "metadata": {},
   "outputs": [
    {
     "data": {
      "text/plain": [
       "count       200.000000\n",
       "mean      62315.678401\n",
       "std      106774.495034\n",
       "min        4000.000000\n",
       "25%        9276.920317\n",
       "50%       14135.314612\n",
       "75%       85000.000000\n",
       "max      700000.000000\n",
       "Name: salary.full, dtype: float64"
      ]
     },
     "execution_count": 231,
     "metadata": {},
     "output_type": "execute_result"
    }
   ],
   "source": [
    "df_some[df_some[\"area.name\"] == \"Москва\"][\"salary.full\"].describe()"
   ]
  },
  {
   "cell_type": "code",
   "execution_count": 223,
   "metadata": {},
   "outputs": [
    {
     "data": {
      "text/plain": [
       "count       120.000000\n",
       "mean      63576.370697\n",
       "std      100203.684601\n",
       "min        3750.000000\n",
       "25%       13425.759317\n",
       "50%       13941.105570\n",
       "75%       94375.000000\n",
       "max      650000.000000\n",
       "Name: salary.full, dtype: float64"
      ]
     },
     "execution_count": 223,
     "metadata": {},
     "output_type": "execute_result"
    }
   ],
   "source": [
    "df_some[df_some[\"area.name\"] == \"Санкт-Петербург\"][\"salary.full\"].describe()"
   ]
  },
  {
   "cell_type": "code",
   "execution_count": 225,
   "metadata": {},
   "outputs": [
    {
     "data": {
      "text/plain": [
       "salary.currency\n",
       "RUR    87\n",
       "USD     3\n",
       "EUR     1\n",
       "Name: count, dtype: int64"
      ]
     },
     "execution_count": 225,
     "metadata": {},
     "output_type": "execute_result"
    }
   ],
   "source": [
    "df_some['salary.currency'].value_counts()"
   ]
  },
  {
   "cell_type": "code",
   "execution_count": 235,
   "metadata": {},
   "outputs": [
    {
     "data": {
      "text/html": [
       "<div>\n",
       "<style scoped>\n",
       "    .dataframe tbody tr th:only-of-type {\n",
       "        vertical-align: middle;\n",
       "    }\n",
       "\n",
       "    .dataframe tbody tr th {\n",
       "        vertical-align: top;\n",
       "    }\n",
       "\n",
       "    .dataframe thead th {\n",
       "        text-align: right;\n",
       "    }\n",
       "</style>\n",
       "<table border=\"1\" class=\"dataframe\">\n",
       "  <thead>\n",
       "    <tr style=\"text-align: right;\">\n",
       "      <th></th>\n",
       "      <th>id</th>\n",
       "      <th>name</th>\n",
       "      <th>area.name</th>\n",
       "      <th>salary.from</th>\n",
       "      <th>salary.to</th>\n",
       "      <th>salary.currency</th>\n",
       "      <th>salary.gross</th>\n",
       "      <th>snippet.requirement</th>\n",
       "      <th>snippet.responsibility</th>\n",
       "      <th>employer.accredited_it_employer</th>\n",
       "      <th>schedule.id</th>\n",
       "      <th>experience.id</th>\n",
       "      <th>salary.mean</th>\n",
       "      <th>salary</th>\n",
       "      <th>Predicted salary</th>\n",
       "      <th>salary.full</th>\n",
       "      <th>salary.full.rur</th>\n",
       "    </tr>\n",
       "  </thead>\n",
       "  <tbody>\n",
       "    <tr>\n",
       "      <th>20</th>\n",
       "      <td>100811009</td>\n",
       "      <td>Python Backend Developer (middle+/senior)</td>\n",
       "      <td>Москва</td>\n",
       "      <td>NaN</td>\n",
       "      <td>4000.0</td>\n",
       "      <td>USD</td>\n",
       "      <td>False</td>\n",
       "      <td>Отличное знание &lt;highlighttext&gt;Python&lt;/highlig...</td>\n",
       "      <td>Проектирование и разработка сервисов. Контроль...</td>\n",
       "      <td>False</td>\n",
       "      <td>remote</td>\n",
       "      <td>between3And6</td>\n",
       "      <td>NaN</td>\n",
       "      <td>4000.0</td>\n",
       "      <td>4749.569364</td>\n",
       "      <td>4000.0</td>\n",
       "      <td>4000.0</td>\n",
       "    </tr>\n",
       "    <tr>\n",
       "      <th>30</th>\n",
       "      <td>100616034</td>\n",
       "      <td>Senior Python Developer</td>\n",
       "      <td>Москва</td>\n",
       "      <td>NaN</td>\n",
       "      <td>7000.0</td>\n",
       "      <td>USD</td>\n",
       "      <td>False</td>\n",
       "      <td>Опыт от 5-ти лет на &lt;highlighttext&gt;Python&lt;/hig...</td>\n",
       "      <td>Разработка, поддержка и масштабирование веб-пр...</td>\n",
       "      <td>False</td>\n",
       "      <td>remote</td>\n",
       "      <td>between3And6</td>\n",
       "      <td>NaN</td>\n",
       "      <td>7000.0</td>\n",
       "      <td>4749.569364</td>\n",
       "      <td>7000.0</td>\n",
       "      <td>7000.0</td>\n",
       "    </tr>\n",
       "    <tr>\n",
       "      <th>42</th>\n",
       "      <td>100063531</td>\n",
       "      <td>Python Developer (senior)</td>\n",
       "      <td>Москва</td>\n",
       "      <td>4500.0</td>\n",
       "      <td>NaN</td>\n",
       "      <td>EUR</td>\n",
       "      <td>False</td>\n",
       "      <td>Требуемые навыки: Более 5 лет практического оп...</td>\n",
       "      <td>None</td>\n",
       "      <td>False</td>\n",
       "      <td>remote</td>\n",
       "      <td>moreThan6</td>\n",
       "      <td>NaN</td>\n",
       "      <td>4500.0</td>\n",
       "      <td>4500.000000</td>\n",
       "      <td>4500.0</td>\n",
       "      <td>4500.0</td>\n",
       "    </tr>\n",
       "    <tr>\n",
       "      <th>38</th>\n",
       "      <td>101270894</td>\n",
       "      <td>Python Developer</td>\n",
       "      <td>Санкт-Петербург</td>\n",
       "      <td>3500.0</td>\n",
       "      <td>4000.0</td>\n",
       "      <td>USD</td>\n",
       "      <td>True</td>\n",
       "      <td>Большой опыт разработки на &lt;highlighttext&gt;Pyth...</td>\n",
       "      <td>Руководить разработкой и внедрением продукта. ...</td>\n",
       "      <td>False</td>\n",
       "      <td>remote</td>\n",
       "      <td>between3And6</td>\n",
       "      <td>3750.0</td>\n",
       "      <td>3750.0</td>\n",
       "      <td>4654.693331</td>\n",
       "      <td>3750.0</td>\n",
       "      <td>3750.0</td>\n",
       "    </tr>\n",
       "  </tbody>\n",
       "</table>\n",
       "</div>"
      ],
      "text/plain": [
       "           id                                       name        area.name  \\\n",
       "20  100811009  Python Backend Developer (middle+/senior)           Москва   \n",
       "30  100616034                    Senior Python Developer           Москва   \n",
       "42  100063531                  Python Developer (senior)           Москва   \n",
       "38  101270894                           Python Developer  Санкт-Петербург   \n",
       "\n",
       "    salary.from  salary.to salary.currency salary.gross  \\\n",
       "20          NaN     4000.0             USD        False   \n",
       "30          NaN     7000.0             USD        False   \n",
       "42       4500.0        NaN             EUR        False   \n",
       "38       3500.0     4000.0             USD         True   \n",
       "\n",
       "                                  snippet.requirement  \\\n",
       "20  Отличное знание <highlighttext>Python</highlig...   \n",
       "30  Опыт от 5-ти лет на <highlighttext>Python</hig...   \n",
       "42  Требуемые навыки: Более 5 лет практического оп...   \n",
       "38  Большой опыт разработки на <highlighttext>Pyth...   \n",
       "\n",
       "                               snippet.responsibility  \\\n",
       "20  Проектирование и разработка сервисов. Контроль...   \n",
       "30  Разработка, поддержка и масштабирование веб-пр...   \n",
       "42                                               None   \n",
       "38  Руководить разработкой и внедрением продукта. ...   \n",
       "\n",
       "    employer.accredited_it_employer schedule.id experience.id  salary.mean  \\\n",
       "20                            False      remote  between3And6          NaN   \n",
       "30                            False      remote  between3And6          NaN   \n",
       "42                            False      remote     moreThan6          NaN   \n",
       "38                            False      remote  between3And6       3750.0   \n",
       "\n",
       "    salary  Predicted salary  salary.full  salary.full.rur  \n",
       "20  4000.0       4749.569364       4000.0           4000.0  \n",
       "30  7000.0       4749.569364       7000.0           7000.0  \n",
       "42  4500.0       4500.000000       4500.0           4500.0  \n",
       "38  3750.0       4654.693331       3750.0           3750.0  "
      ]
     },
     "execution_count": 235,
     "metadata": {},
     "output_type": "execute_result"
    }
   ],
   "source": [
    "df_some[(df_some[\"salary.currency\"] == \"USD\") | (df_some[\"salary.currency\"] == \"EUR\")]"
   ]
  },
  {
   "cell_type": "markdown",
   "metadata": {},
   "source": [
    "### 6. ЗП исправить убрать налог, если валюта зп не равна рублям заменить по текущему курсу обмена"
   ]
  },
  {
   "cell_type": "code",
   "execution_count": 232,
   "metadata": {},
   "outputs": [],
   "source": [
    "# Курсы валют\n",
    "usd_to_rub = 88  \n",
    "eur_to_rub = 97 "
   ]
  },
  {
   "cell_type": "markdown",
   "metadata": {},
   "source": [
    "Перевод в рубли"
   ]
  },
  {
   "cell_type": "code",
   "execution_count": 239,
   "metadata": {},
   "outputs": [],
   "source": [
    "df_some[\"salary.full.rur\"] = np.where(\n",
    "    df_some[\"salary.currency\"] == \"USD\",\n",
    "    df_some[\"salary.full\"] * usd_to_rub,\n",
    "    np.where(\n",
    "        df_some[\"salary.currency\"] == \"EUR\",\n",
    "        df_some[\"salary.full\"] * eur_to_rub,\n",
    "        df_some[\"salary.full\"],\n",
    "    ),\n",
    ")"
   ]
  },
  {
   "cell_type": "markdown",
   "metadata": {},
   "source": [
    "Вычет налога"
   ]
  },
  {
   "cell_type": "code",
   "execution_count": 244,
   "metadata": {},
   "outputs": [],
   "source": [
    "df_some[\"salary.no_tax\"] = np.where(\n",
    "    df_some[\"salary.gross\"] == True, df_some[\"salary.full.rur\"] * 0.87, df_some[\"salary.full.rur\"]\n",
    ")"
   ]
  },
  {
   "cell_type": "markdown",
   "metadata": {},
   "source": [
    "### 6.1 Обучим модель на правильной зарплате"
   ]
  },
  {
   "cell_type": "code",
   "execution_count": 251,
   "metadata": {},
   "outputs": [],
   "source": [
    "df_some[\"salary.clean\"] = np.where(\n",
    "    pd.isnull(df_some[\"salary\"]) == True, np.nan, df_some[\"salary.no_tax\"]\n",
    ")"
   ]
  },
  {
   "cell_type": "code",
   "execution_count": 254,
   "metadata": {},
   "outputs": [
    {
     "data": {
      "text/html": [
       "<div>\n",
       "<style scoped>\n",
       "    .dataframe tbody tr th:only-of-type {\n",
       "        vertical-align: middle;\n",
       "    }\n",
       "\n",
       "    .dataframe tbody tr th {\n",
       "        vertical-align: top;\n",
       "    }\n",
       "\n",
       "    .dataframe thead th {\n",
       "        text-align: right;\n",
       "    }\n",
       "</style>\n",
       "<table border=\"1\" class=\"dataframe\">\n",
       "  <thead>\n",
       "    <tr style=\"text-align: right;\">\n",
       "      <th></th>\n",
       "      <th>salary.clean</th>\n",
       "      <th>employer.accredited_it_employer</th>\n",
       "      <th>area.name_Москва</th>\n",
       "      <th>area.name_Санкт-Петербург</th>\n",
       "      <th>salary.currency_EUR</th>\n",
       "      <th>salary.currency_RUR</th>\n",
       "      <th>salary.currency_USD</th>\n",
       "      <th>salary.gross_False</th>\n",
       "      <th>salary.gross_True</th>\n",
       "      <th>schedule.id_flexible</th>\n",
       "      <th>schedule.id_fullDay</th>\n",
       "      <th>schedule.id_remote</th>\n",
       "      <th>experience.id_between1And3</th>\n",
       "      <th>experience.id_between3And6</th>\n",
       "      <th>experience.id_moreThan6</th>\n",
       "      <th>experience.id_noExperience</th>\n",
       "    </tr>\n",
       "  </thead>\n",
       "  <tbody>\n",
       "    <tr>\n",
       "      <th>0</th>\n",
       "      <td>65000.0</td>\n",
       "      <td>False</td>\n",
       "      <td>True</td>\n",
       "      <td>False</td>\n",
       "      <td>False</td>\n",
       "      <td>True</td>\n",
       "      <td>False</td>\n",
       "      <td>True</td>\n",
       "      <td>False</td>\n",
       "      <td>False</td>\n",
       "      <td>True</td>\n",
       "      <td>False</td>\n",
       "      <td>True</td>\n",
       "      <td>False</td>\n",
       "      <td>False</td>\n",
       "      <td>False</td>\n",
       "    </tr>\n",
       "    <tr>\n",
       "      <th>1</th>\n",
       "      <td>NaN</td>\n",
       "      <td>False</td>\n",
       "      <td>True</td>\n",
       "      <td>False</td>\n",
       "      <td>False</td>\n",
       "      <td>False</td>\n",
       "      <td>False</td>\n",
       "      <td>False</td>\n",
       "      <td>False</td>\n",
       "      <td>False</td>\n",
       "      <td>True</td>\n",
       "      <td>False</td>\n",
       "      <td>False</td>\n",
       "      <td>False</td>\n",
       "      <td>False</td>\n",
       "      <td>True</td>\n",
       "    </tr>\n",
       "    <tr>\n",
       "      <th>2</th>\n",
       "      <td>NaN</td>\n",
       "      <td>False</td>\n",
       "      <td>True</td>\n",
       "      <td>False</td>\n",
       "      <td>False</td>\n",
       "      <td>False</td>\n",
       "      <td>False</td>\n",
       "      <td>False</td>\n",
       "      <td>False</td>\n",
       "      <td>False</td>\n",
       "      <td>False</td>\n",
       "      <td>True</td>\n",
       "      <td>False</td>\n",
       "      <td>False</td>\n",
       "      <td>False</td>\n",
       "      <td>True</td>\n",
       "    </tr>\n",
       "    <tr>\n",
       "      <th>3</th>\n",
       "      <td>NaN</td>\n",
       "      <td>True</td>\n",
       "      <td>True</td>\n",
       "      <td>False</td>\n",
       "      <td>False</td>\n",
       "      <td>False</td>\n",
       "      <td>False</td>\n",
       "      <td>False</td>\n",
       "      <td>False</td>\n",
       "      <td>False</td>\n",
       "      <td>True</td>\n",
       "      <td>False</td>\n",
       "      <td>True</td>\n",
       "      <td>False</td>\n",
       "      <td>False</td>\n",
       "      <td>False</td>\n",
       "    </tr>\n",
       "    <tr>\n",
       "      <th>4</th>\n",
       "      <td>43500.0</td>\n",
       "      <td>False</td>\n",
       "      <td>True</td>\n",
       "      <td>False</td>\n",
       "      <td>False</td>\n",
       "      <td>True</td>\n",
       "      <td>False</td>\n",
       "      <td>False</td>\n",
       "      <td>True</td>\n",
       "      <td>True</td>\n",
       "      <td>False</td>\n",
       "      <td>False</td>\n",
       "      <td>False</td>\n",
       "      <td>False</td>\n",
       "      <td>False</td>\n",
       "      <td>True</td>\n",
       "    </tr>\n",
       "    <tr>\n",
       "      <th>...</th>\n",
       "      <td>...</td>\n",
       "      <td>...</td>\n",
       "      <td>...</td>\n",
       "      <td>...</td>\n",
       "      <td>...</td>\n",
       "      <td>...</td>\n",
       "      <td>...</td>\n",
       "      <td>...</td>\n",
       "      <td>...</td>\n",
       "      <td>...</td>\n",
       "      <td>...</td>\n",
       "      <td>...</td>\n",
       "      <td>...</td>\n",
       "      <td>...</td>\n",
       "      <td>...</td>\n",
       "      <td>...</td>\n",
       "    </tr>\n",
       "    <tr>\n",
       "      <th>15</th>\n",
       "      <td>NaN</td>\n",
       "      <td>True</td>\n",
       "      <td>False</td>\n",
       "      <td>True</td>\n",
       "      <td>False</td>\n",
       "      <td>False</td>\n",
       "      <td>False</td>\n",
       "      <td>False</td>\n",
       "      <td>False</td>\n",
       "      <td>False</td>\n",
       "      <td>True</td>\n",
       "      <td>False</td>\n",
       "      <td>False</td>\n",
       "      <td>True</td>\n",
       "      <td>False</td>\n",
       "      <td>False</td>\n",
       "    </tr>\n",
       "    <tr>\n",
       "      <th>16</th>\n",
       "      <td>NaN</td>\n",
       "      <td>True</td>\n",
       "      <td>False</td>\n",
       "      <td>True</td>\n",
       "      <td>False</td>\n",
       "      <td>False</td>\n",
       "      <td>False</td>\n",
       "      <td>False</td>\n",
       "      <td>False</td>\n",
       "      <td>False</td>\n",
       "      <td>True</td>\n",
       "      <td>False</td>\n",
       "      <td>False</td>\n",
       "      <td>True</td>\n",
       "      <td>False</td>\n",
       "      <td>False</td>\n",
       "    </tr>\n",
       "    <tr>\n",
       "      <th>17</th>\n",
       "      <td>350000.0</td>\n",
       "      <td>False</td>\n",
       "      <td>False</td>\n",
       "      <td>True</td>\n",
       "      <td>False</td>\n",
       "      <td>True</td>\n",
       "      <td>False</td>\n",
       "      <td>True</td>\n",
       "      <td>False</td>\n",
       "      <td>False</td>\n",
       "      <td>True</td>\n",
       "      <td>False</td>\n",
       "      <td>False</td>\n",
       "      <td>True</td>\n",
       "      <td>False</td>\n",
       "      <td>False</td>\n",
       "    </tr>\n",
       "    <tr>\n",
       "      <th>18</th>\n",
       "      <td>NaN</td>\n",
       "      <td>False</td>\n",
       "      <td>False</td>\n",
       "      <td>True</td>\n",
       "      <td>False</td>\n",
       "      <td>False</td>\n",
       "      <td>False</td>\n",
       "      <td>False</td>\n",
       "      <td>False</td>\n",
       "      <td>False</td>\n",
       "      <td>False</td>\n",
       "      <td>True</td>\n",
       "      <td>False</td>\n",
       "      <td>True</td>\n",
       "      <td>False</td>\n",
       "      <td>False</td>\n",
       "    </tr>\n",
       "    <tr>\n",
       "      <th>19</th>\n",
       "      <td>NaN</td>\n",
       "      <td>True</td>\n",
       "      <td>False</td>\n",
       "      <td>True</td>\n",
       "      <td>False</td>\n",
       "      <td>False</td>\n",
       "      <td>False</td>\n",
       "      <td>False</td>\n",
       "      <td>False</td>\n",
       "      <td>False</td>\n",
       "      <td>True</td>\n",
       "      <td>False</td>\n",
       "      <td>False</td>\n",
       "      <td>False</td>\n",
       "      <td>True</td>\n",
       "      <td>False</td>\n",
       "    </tr>\n",
       "  </tbody>\n",
       "</table>\n",
       "<p>320 rows × 16 columns</p>\n",
       "</div>"
      ],
      "text/plain": [
       "    salary.clean  employer.accredited_it_employer  area.name_Москва  \\\n",
       "0        65000.0                            False              True   \n",
       "1            NaN                            False              True   \n",
       "2            NaN                            False              True   \n",
       "3            NaN                             True              True   \n",
       "4        43500.0                            False              True   \n",
       "..           ...                              ...               ...   \n",
       "15           NaN                             True             False   \n",
       "16           NaN                             True             False   \n",
       "17      350000.0                            False             False   \n",
       "18           NaN                            False             False   \n",
       "19           NaN                             True             False   \n",
       "\n",
       "    area.name_Санкт-Петербург  salary.currency_EUR  salary.currency_RUR  \\\n",
       "0                       False                False                 True   \n",
       "1                       False                False                False   \n",
       "2                       False                False                False   \n",
       "3                       False                False                False   \n",
       "4                       False                False                 True   \n",
       "..                        ...                  ...                  ...   \n",
       "15                       True                False                False   \n",
       "16                       True                False                False   \n",
       "17                       True                False                 True   \n",
       "18                       True                False                False   \n",
       "19                       True                False                False   \n",
       "\n",
       "    salary.currency_USD  salary.gross_False  salary.gross_True  \\\n",
       "0                 False                True              False   \n",
       "1                 False               False              False   \n",
       "2                 False               False              False   \n",
       "3                 False               False              False   \n",
       "4                 False               False               True   \n",
       "..                  ...                 ...                ...   \n",
       "15                False               False              False   \n",
       "16                False               False              False   \n",
       "17                False                True              False   \n",
       "18                False               False              False   \n",
       "19                False               False              False   \n",
       "\n",
       "    schedule.id_flexible  schedule.id_fullDay  schedule.id_remote  \\\n",
       "0                  False                 True               False   \n",
       "1                  False                 True               False   \n",
       "2                  False                False                True   \n",
       "3                  False                 True               False   \n",
       "4                   True                False               False   \n",
       "..                   ...                  ...                 ...   \n",
       "15                 False                 True               False   \n",
       "16                 False                 True               False   \n",
       "17                 False                 True               False   \n",
       "18                 False                False                True   \n",
       "19                 False                 True               False   \n",
       "\n",
       "    experience.id_between1And3  experience.id_between3And6  \\\n",
       "0                         True                       False   \n",
       "1                        False                       False   \n",
       "2                        False                       False   \n",
       "3                         True                       False   \n",
       "4                        False                       False   \n",
       "..                         ...                         ...   \n",
       "15                       False                        True   \n",
       "16                       False                        True   \n",
       "17                       False                        True   \n",
       "18                       False                        True   \n",
       "19                       False                       False   \n",
       "\n",
       "    experience.id_moreThan6  experience.id_noExperience  \n",
       "0                     False                       False  \n",
       "1                     False                        True  \n",
       "2                     False                        True  \n",
       "3                     False                       False  \n",
       "4                     False                        True  \n",
       "..                      ...                         ...  \n",
       "15                    False                       False  \n",
       "16                    False                       False  \n",
       "17                    False                       False  \n",
       "18                    False                       False  \n",
       "19                     True                       False  \n",
       "\n",
       "[320 rows x 16 columns]"
      ]
     },
     "execution_count": 254,
     "metadata": {},
     "output_type": "execute_result"
    }
   ],
   "source": [
    "X = pd.get_dummies(\n",
    "    df_some[\n",
    "        [\n",
    "            \"salary.clean\",\n",
    "            \"area.name\",\n",
    "            \"salary.currency\",\n",
    "            \"salary.gross\",\n",
    "            \"employer.accredited_it_employer\",\n",
    "            \"schedule.id\",\n",
    "            \"experience.id\",\n",
    "        ]\n",
    "    ]\n",
    ")\n",
    "X"
   ]
  },
  {
   "cell_type": "markdown",
   "metadata": {},
   "source": [
    "Отбиарем признаки для линейной регрессии"
   ]
  },
  {
   "cell_type": "code",
   "execution_count": 257,
   "metadata": {},
   "outputs": [],
   "source": [
    "X_train = X.loc[pd.notnull(X[\"salary.clean\"]), X.columns[1:]]\n",
    "\n",
    "Y_train = df_some.loc[pd.notnull(df_some[\"salary.clean\"]), \"salary.clean\"]\n",
    "\n",
    "Y_train_log = np.log1p(Y_train)"
   ]
  },
  {
   "cell_type": "code",
   "execution_count": 258,
   "metadata": {},
   "outputs": [
    {
     "data": {
      "text/plain": [
       "((91, 15), (91,))"
      ]
     },
     "execution_count": 258,
     "metadata": {},
     "output_type": "execute_result"
    }
   ],
   "source": [
    "X_train.shape, Y_train.shape"
   ]
  },
  {
   "cell_type": "code",
   "execution_count": 259,
   "metadata": {},
   "outputs": [],
   "source": [
    "model = LinearRegression()\n",
    "# results = model.fit(X_train, Y_train)\n",
    "results = model.fit(X_train, Y_train_log)"
   ]
  },
  {
   "cell_type": "code",
   "execution_count": 260,
   "metadata": {},
   "outputs": [
    {
     "data": {
      "text/plain": [
       "(array([-0.03671012,  0.02527293, -0.02527293, -0.05806848, -0.2907951 ,\n",
       "         0.34886358,  0.0544474 , -0.0544474 , -0.15387811,  0.07741674,\n",
       "         0.07646137, -0.38267589,  0.07514357,  0.52548051, -0.2179482 ]),\n",
       " 12.362952204316676)"
      ]
     },
     "execution_count": 260,
     "metadata": {},
     "output_type": "execute_result"
    }
   ],
   "source": [
    "results.coef_, results.intercept_"
   ]
  },
  {
   "cell_type": "code",
   "execution_count": 261,
   "metadata": {},
   "outputs": [],
   "source": [
    "# df_some[\"Predicted salary\"] = model.predict(X.iloc[:, 1:])\n",
    "df_some[\"Predicted salary_new\"] = np.expm1(model.predict(X.iloc[:, 1:]))"
   ]
  },
  {
   "cell_type": "code",
   "execution_count": 262,
   "metadata": {},
   "outputs": [
    {
     "data": {
      "text/plain": [
       "42920.201818497786"
      ]
     },
     "execution_count": 262,
     "metadata": {},
     "output_type": "execute_result"
    }
   ],
   "source": [
    "mean_absolute_error(\n",
    "    df_some.dropna()[\"salary.clean\"],\n",
    "    df_some.dropna()[\"Predicted salary_new\"],\n",
    ")"
   ]
  },
  {
   "cell_type": "code",
   "execution_count": 263,
   "metadata": {},
   "outputs": [],
   "source": [
    "df_some[\"salary.full_new\"] = df_some[\"salary.clean\"].fillna(\n",
    "    df_some[\"Predicted salary_new\"]\n",
    ")"
   ]
  },
  {
   "cell_type": "code",
   "execution_count": null,
   "metadata": {},
   "outputs": [],
   "source": [
    "df_some.sort_values(by=\"salary.clean\")"
   ]
  },
  {
   "cell_type": "code",
   "execution_count": 268,
   "metadata": {},
   "outputs": [
    {
     "data": {
      "text/plain": [
       "count       320.000000\n",
       "mean      66541.875512\n",
       "std      109281.580617\n",
       "min        6745.931495\n",
       "25%        9276.920317\n",
       "50%       14135.314612\n",
       "75%      100000.000000\n",
       "max      700000.000000\n",
       "Name: salary.no_tax, dtype: float64"
      ]
     },
     "execution_count": 268,
     "metadata": {},
     "output_type": "execute_result"
    }
   ],
   "source": [
    "df_some[\"salary.no_tax\"].describe()"
   ]
  },
  {
   "cell_type": "code",
   "execution_count": 270,
   "metadata": {},
   "outputs": [
    {
     "data": {
      "text/plain": [
       "count        91.000000\n",
       "mean     202476.373626\n",
       "std      127253.848521\n",
       "min       43500.000000\n",
       "25%      121800.000000\n",
       "50%      170000.000000\n",
       "75%      210000.000000\n",
       "max      700000.000000\n",
       "Name: salary.clean, dtype: float64"
      ]
     },
     "execution_count": 270,
     "metadata": {},
     "output_type": "execute_result"
    }
   ],
   "source": [
    "df_some[\"salary.clean\"].describe()"
   ]
  },
  {
   "cell_type": "code",
   "execution_count": 269,
   "metadata": {},
   "outputs": [
    {
     "data": {
      "text/plain": [
       "count       320.000000\n",
       "mean     228416.961051\n",
       "std       87734.317463\n",
       "min       43500.000000\n",
       "25%      173114.746748\n",
       "50%      209249.433264\n",
       "75%      269432.078662\n",
       "max      700000.000000\n",
       "Name: salary.full_new, dtype: float64"
      ]
     },
     "execution_count": 269,
     "metadata": {},
     "output_type": "execute_result"
    }
   ],
   "source": [
    "df_some[\"salary.full_new\"].describe()"
   ]
  },
  {
   "cell_type": "markdown",
   "metadata": {},
   "source": [
    "После обучения на зарплате с вычетом налогов и приведению к одной валюте значения стали более правдивыми"
   ]
  },
  {
   "cell_type": "markdown",
   "metadata": {},
   "source": [
    "### 7. Добавить к графику 5. столбцы с распределением чистой эп."
   ]
  },
  {
   "cell_type": "markdown",
   "metadata": {},
   "source": [
    "До заполнения пропусков моделью"
   ]
  },
  {
   "cell_type": "code",
   "execution_count": 273,
   "metadata": {},
   "outputs": [
    {
     "data": {
      "image/png": "[encoded data removed]",
      "text/plain": [
       "<Figure size 640x480 with 1 Axes>"
      ]
     },
     "metadata": {},
     "output_type": "display_data"
    }
   ],
   "source": [
    "sns.boxplot(x=\"area.name\", y=\"salary.clean\", data=df_some, showfliers=False)\n",
    "plt.title(\"Salary Distribution by City\")\n",
    "plt.xlabel(\"City\")\n",
    "plt.ylabel(\"Salary\")\n",
    "plt.show()"
   ]
  },
  {
   "cell_type": "markdown",
   "metadata": {},
   "source": [
    "После заполнения пропусков моделью"
   ]
  },
  {
   "cell_type": "code",
   "execution_count": 271,
   "metadata": {},
   "outputs": [
    {
     "data": {
      "image/png": "[encoded data removed]",
      "text/plain": [
       "<Figure size 640x480 with 1 Axes>"
      ]
     },
     "metadata": {},
     "output_type": "display_data"
    }
   ],
   "source": [
    "sns.boxplot(x=\"area.name\", y=\"salary.full_new\", data=df_some, showfliers=False)\n",
    "plt.title(\"Salary Distribution by City\")\n",
    "plt.xlabel(\"City\")\n",
    "plt.ylabel(\"Salary\")\n",
    "plt.show()"
   ]
  },
  {
   "cell_type": "markdown",
   "metadata": {},
   "source": [
    "### 8. Построить гистограмму упоминания навыков в вакансиях. Навыком считаем язык или фреймворк, или инструмент на англ."
   ]
  },
  {
   "cell_type": "code",
   "execution_count": null,
   "metadata": {},
   "outputs": [],
   "source": []
  },
  {
   "cell_type": "markdown",
   "metadata": {},
   "source": []
  },
  {
   "cell_type": "markdown",
   "metadata": {},
   "source": [
    "\n",
    "\n",
    "\n",
    "\n",
    "\n",
    "\n",
    "\n",
    "\n",
    "-\n",
    "\n",
    "\n",
    "9. Построить для junior, middle, senior, столбиковую диаграмму со средней зп внутри уровня\n",
    "10. Проверить гипотезу, о том что уровень вакансии НЕ влияет на эп\n",
    "Последнее изменение: вторник, 26 декабря 2023, 14:14"
   ]
  }
 ],
 "metadata": {
  "kernelspec": {
   "display_name": "base",
   "language": "python",
   "name": "python3"
  },
  "language_info": {
   "codemirror_mode": {
    "name": "ipython",
    "version": 3
   },
   "file_extension": ".py",
   "mimetype": "text/x-python",
   "name": "python",
   "nbconvert_exporter": "python",
   "pygments_lexer": "ipython3",
   "version": "3.11.7"
  }
 },
 "nbformat": 4,
 "nbformat_minor": 2
}
