{
 "cells": [
  {
   "cell_type": "code",
   "execution_count": 52,
   "metadata": {},
   "outputs": [],
   "source": [
    "import pandas as pd"
   ]
  },
  {
   "cell_type": "markdown",
   "metadata": {},
   "source": [
    "### 1. Создайте единый датафрейм из двух представленных файлов, предварительно загрузив их в датафреймы df1, df2 ‚ способами:"
   ]
  },
  {
   "cell_type": "code",
   "execution_count": 53,
   "metadata": {},
   "outputs": [],
   "source": [
    "df1 = pd.read_excel(\"lab2_1.xlsx\")\n",
    "df2 = pd.read_excel(\"lab2_2.xlsx\")"
   ]
  },
  {
   "cell_type": "code",
   "execution_count": 54,
   "metadata": {},
   "outputs": [
    {
     "name": "stdout",
     "output_type": "stream",
     "text": [
      "<class 'pandas.core.frame.DataFrame'>\n",
      "RangeIndex: 29 entries, 0 to 28\n",
      "Data columns (total 6 columns):\n",
      " #   Column                                                                                    Non-Null Count  Dtype         \n",
      "---  ------                                                                                    --------------  -----         \n",
      " 0   Отметка времени                                                                           29 non-null     datetime64[ns]\n",
      " 1   Адрес электронной почты                                                                   29 non-null     object        \n",
      " 2   Укажите свое Ф.И.О.                                                                       29 non-null     object        \n",
      " 3   Укажите пол                                                                               29 non-null     object        \n",
      " 4   Укажите возраст (полное число лет)                                                        29 non-null     int64         \n",
      " 5   Укажите направление бакалавриата (числовой код, например 09.03.04), которое Вы закончили  29 non-null     object        \n",
      "dtypes: datetime64[ns](1), int64(1), object(4)\n",
      "memory usage: 1.5+ KB\n"
     ]
    }
   ],
   "source": [
    "df1.info()"
   ]
  },
  {
   "cell_type": "code",
   "execution_count": 56,
   "metadata": {},
   "outputs": [
    {
     "name": "stdout",
     "output_type": "stream",
     "text": [
      "<class 'pandas.core.frame.DataFrame'>\n",
      "RangeIndex: 29 entries, 0 to 28\n",
      "Data columns (total 6 columns):\n",
      " #   Column                              Non-Null Count  Dtype         \n",
      "---  ------                              --------------  -----         \n",
      " 0   Отметка времени                     29 non-null     datetime64[ns]\n",
      " 1   Укажите свое Ф.И.О.                 29 non-null     object        \n",
      " 2   Укажите пол                         29 non-null     object        \n",
      " 3   Укажите возраст (полное число лет)  29 non-null     int64         \n",
      " 4   Укажите Ваши научные интересы:      29 non-null     object        \n",
      " 5   Адрес электронной почты             5 non-null      object        \n",
      "dtypes: datetime64[ns](1), int64(1), object(4)\n",
      "memory usage: 1.5+ KB\n"
     ]
    }
   ],
   "source": [
    "df2.info()"
   ]
  },
  {
   "cell_type": "markdown",
   "metadata": {},
   "source": [
    "1.1 Склейте по вертикали"
   ]
  },
  {
   "cell_type": "code",
   "execution_count": 57,
   "metadata": {},
   "outputs": [],
   "source": [
    "ver_concat_df = pd.concat([df1, df2], axis=0)"
   ]
  },
  {
   "cell_type": "code",
   "execution_count": 58,
   "metadata": {},
   "outputs": [
    {
     "name": "stdout",
     "output_type": "stream",
     "text": [
      "<class 'pandas.core.frame.DataFrame'>\n",
      "Index: 58 entries, 0 to 28\n",
      "Data columns (total 7 columns):\n",
      " #   Column                                                                                    Non-Null Count  Dtype         \n",
      "---  ------                                                                                    --------------  -----         \n",
      " 0   Отметка времени                                                                           58 non-null     datetime64[ns]\n",
      " 1   Адрес электронной почты                                                                   34 non-null     object        \n",
      " 2   Укажите свое Ф.И.О.                                                                       58 non-null     object        \n",
      " 3   Укажите пол                                                                               58 non-null     object        \n",
      " 4   Укажите возраст (полное число лет)                                                        58 non-null     int64         \n",
      " 5   Укажите направление бакалавриата (числовой код, например 09.03.04), которое Вы закончили  29 non-null     object        \n",
      " 6   Укажите Ваши научные интересы:                                                            29 non-null     object        \n",
      "dtypes: datetime64[ns](1), int64(1), object(5)\n",
      "memory usage: 3.6+ KB\n"
     ]
    }
   ],
   "source": [
    "ver_concat_df.info()"
   ]
  },
  {
   "cell_type": "markdown",
   "metadata": {},
   "source": [
    "1.2 Склейте по горизонтали"
   ]
  },
  {
   "cell_type": "code",
   "execution_count": 59,
   "metadata": {},
   "outputs": [],
   "source": [
    "hor_concat_df = pd.concat([df1, df2], axis=1)"
   ]
  },
  {
   "cell_type": "code",
   "execution_count": 60,
   "metadata": {},
   "outputs": [
    {
     "name": "stdout",
     "output_type": "stream",
     "text": [
      "<class 'pandas.core.frame.DataFrame'>\n",
      "RangeIndex: 29 entries, 0 to 28\n",
      "Data columns (total 12 columns):\n",
      " #   Column                                                                                    Non-Null Count  Dtype         \n",
      "---  ------                                                                                    --------------  -----         \n",
      " 0   Отметка времени                                                                           29 non-null     datetime64[ns]\n",
      " 1   Адрес электронной почты                                                                   29 non-null     object        \n",
      " 2   Укажите свое Ф.И.О.                                                                       29 non-null     object        \n",
      " 3   Укажите пол                                                                               29 non-null     object        \n",
      " 4   Укажите возраст (полное число лет)                                                        29 non-null     int64         \n",
      " 5   Укажите направление бакалавриата (числовой код, например 09.03.04), которое Вы закончили  29 non-null     object        \n",
      " 6   Отметка времени                                                                           29 non-null     datetime64[ns]\n",
      " 7   Укажите свое Ф.И.О.                                                                       29 non-null     object        \n",
      " 8   Укажите пол                                                                               29 non-null     object        \n",
      " 9   Укажите возраст (полное число лет)                                                        29 non-null     int64         \n",
      " 10  Укажите Ваши научные интересы:                                                            29 non-null     object        \n",
      " 11  Адрес электронной почты                                                                   5 non-null      object        \n",
      "dtypes: datetime64[ns](2), int64(2), object(8)\n",
      "memory usage: 2.8+ KB\n"
     ]
    }
   ],
   "source": [
    "hor_concat_df.info()"
   ]
  },
  {
   "cell_type": "markdown",
   "metadata": {},
   "source": [
    "1.3 Сделайте внутренний join по ключу \"Укажите свое Ф.И.О.\""
   ]
  },
  {
   "cell_type": "markdown",
   "metadata": {},
   "source": [
    "Проверим, что для объединения по ключам, ключи уникальны"
   ]
  },
  {
   "cell_type": "code",
   "execution_count": 61,
   "metadata": {},
   "outputs": [
    {
     "data": {
      "text/plain": [
       "(0, 0)"
      ]
     },
     "execution_count": 61,
     "metadata": {},
     "output_type": "execute_result"
    }
   ],
   "source": [
    "df1.duplicated(subset=\"Укажите свое Ф.И.О.\").sum(), df2.duplicated(\n",
    "    subset=\"Укажите свое Ф.И.О.\"\n",
    ").sum()"
   ]
  },
  {
   "cell_type": "code",
   "execution_count": 62,
   "metadata": {},
   "outputs": [],
   "source": [
    "join_df = pd.merge(df1, df2, how=\"inner\", on=\"Укажите свое Ф.И.О.\")"
   ]
  },
  {
   "cell_type": "code",
   "execution_count": 63,
   "metadata": {},
   "outputs": [
    {
     "name": "stdout",
     "output_type": "stream",
     "text": [
      "<class 'pandas.core.frame.DataFrame'>\n",
      "RangeIndex: 23 entries, 0 to 22\n",
      "Data columns (total 11 columns):\n",
      " #   Column                                                                                    Non-Null Count  Dtype         \n",
      "---  ------                                                                                    --------------  -----         \n",
      " 0   Отметка времени_x                                                                         23 non-null     datetime64[ns]\n",
      " 1   Адрес электронной почты_x                                                                 23 non-null     object        \n",
      " 2   Укажите свое Ф.И.О.                                                                       23 non-null     object        \n",
      " 3   Укажите пол_x                                                                             23 non-null     object        \n",
      " 4   Укажите возраст (полное число лет)_x                                                      23 non-null     int64         \n",
      " 5   Укажите направление бакалавриата (числовой код, например 09.03.04), которое Вы закончили  23 non-null     object        \n",
      " 6   Отметка времени_y                                                                         23 non-null     datetime64[ns]\n",
      " 7   Укажите пол_y                                                                             23 non-null     object        \n",
      " 8   Укажите возраст (полное число лет)_y                                                      23 non-null     int64         \n",
      " 9   Укажите Ваши научные интересы:                                                            23 non-null     object        \n",
      " 10  Адрес электронной почты_y                                                                 4 non-null      object        \n",
      "dtypes: datetime64[ns](2), int64(2), object(7)\n",
      "memory usage: 2.1+ KB\n"
     ]
    }
   ],
   "source": [
    "join_df.info()"
   ]
  },
  {
   "cell_type": "markdown",
   "metadata": {},
   "source": [
    "Смотрим, что не объединилось"
   ]
  },
  {
   "cell_type": "code",
   "execution_count": null,
   "metadata": {},
   "outputs": [],
   "source": [
    "join_check = pd.merge(df1, df2, how=\"outer\", on=\"Укажите свое Ф.И.О.\", indicator=True)\n",
    "\n",
    "join_check[join_check[\"_merge\"] != \"both\"]"
   ]
  },
  {
   "cell_type": "markdown",
   "metadata": {},
   "source": [
    "### 2. В df1, df2 добавьте новый столбец ФИО, который содержит фамилию + инициалы, и сделайте новый внутренний join по этому ключу, получив датафрейм df. Сравните с пп. 1.3"
   ]
  },
  {
   "cell_type": "code",
   "execution_count": 73,
   "metadata": {},
   "outputs": [
    {
     "data": {
      "text/plain": [
       "0     Бородина Агния Геннадьевна\n",
       "1     Долгов Андрей Владимирович\n",
       "2             Крюченков Вячеслав\n",
       "3    Данченков Алексей Денисович\n",
       "4      Закурдаев Никита Иванович\n",
       "Name: Укажите свое Ф.И.О., dtype: object"
      ]
     },
     "execution_count": 73,
     "metadata": {},
     "output_type": "execute_result"
    }
   ],
   "source": [
    "df1[\"Укажите свое Ф.И.О.\"].head()"
   ]
  },
  {
   "cell_type": "code",
   "execution_count": 65,
   "metadata": {},
   "outputs": [],
   "source": [
    "df1[\"ФИО\"] = df1[\"Укажите свое Ф.И.О.\"].apply(\n",
    "    lambda x: \" \".join(\n",
    "        [\n",
    "            x.split()[0],\n",
    "            f\"{x.split()[1][0]}.\" if len(x.split()) > 1 else \"\",\n",
    "            f\"{x.split()[2][0]}.\" if len(x.split()) > 2 else \"\",\n",
    "        ]\n",
    "    ).strip()\n",
    ")"
   ]
  },
  {
   "cell_type": "code",
   "execution_count": 66,
   "metadata": {},
   "outputs": [],
   "source": [
    "df2[\"ФИО\"] = df1[\"Укажите свое Ф.И.О.\"].apply(\n",
    "    lambda x: \" \".join(\n",
    "        [\n",
    "            x.split()[0],\n",
    "            f\"{x.split()[1][0]}.\" if len(x.split()) > 1 else \"\",\n",
    "            f\"{x.split()[2][0]}.\" if len(x.split()) > 2 else \"\",\n",
    "        ]\n",
    "    ).strip()\n",
    ")"
   ]
  },
  {
   "cell_type": "markdown",
   "metadata": {},
   "source": [
    "Снова проверяем на дубликаты"
   ]
  },
  {
   "cell_type": "code",
   "execution_count": 67,
   "metadata": {},
   "outputs": [
    {
     "data": {
      "text/plain": [
       "(0, 0)"
      ]
     },
     "execution_count": 67,
     "metadata": {},
     "output_type": "execute_result"
    }
   ],
   "source": [
    "df1.duplicated(subset=\"ФИО\").sum(), df2.duplicated(subset=\"ФИО\").sum()"
   ]
  },
  {
   "cell_type": "code",
   "execution_count": 68,
   "metadata": {},
   "outputs": [],
   "source": [
    "df = pd.merge(df1, df2, how=\"inner\", on=\"ФИО\")"
   ]
  },
  {
   "cell_type": "code",
   "execution_count": 69,
   "metadata": {},
   "outputs": [
    {
     "data": {
      "text/plain": [
       "((29, 13), (23, 11))"
      ]
     },
     "execution_count": 69,
     "metadata": {},
     "output_type": "execute_result"
    }
   ],
   "source": [
    "df.shape, join_df.shape"
   ]
  },
  {
   "cell_type": "markdown",
   "metadata": {},
   "source": [
    "Вывод: после приведения ключа к формату \"Фамилия И.О.\" получилось полное объединение таблиц"
   ]
  },
  {
   "cell_type": "markdown",
   "metadata": {},
   "source": [
    "### 3. Постройте круговую диаграмму Топ-5 самых главных научных интересов по частоте, используя df"
   ]
  },
  {
   "cell_type": "code",
   "execution_count": 162,
   "metadata": {},
   "outputs": [],
   "source": [
    "# Разделение строки на список научных интересов с использованием регулярного выражения и преобразование в Series\n",
    "interests = df[\"Укажите Ваши научные интересы:\"].str.findall(r\"[\\w\\s]+\").explode()"
   ]
  },
  {
   "cell_type": "code",
   "execution_count": 163,
   "metadata": {},
   "outputs": [
    {
     "data": {
      "text/plain": [
       "0          Групповой анализ\n",
       "0                          \n",
       "0     Прикладная математика\n",
       "0                          \n",
       "0                    Оптика\n",
       "              ...          \n",
       "27                         \n",
       "27             Физика полей\n",
       "27                         \n",
       "27          Электродинамика\n",
       "28    Прикладная математика\n",
       "Name: Укажите Ваши научные интересы:, Length: 393, dtype: object"
      ]
     },
     "execution_count": 163,
     "metadata": {},
     "output_type": "execute_result"
    }
   ],
   "source": [
    "interests"
   ]
  },
  {
   "cell_type": "code",
   "execution_count": 165,
   "metadata": {},
   "outputs": [
    {
     "data": {
      "text/plain": [
       "Прикладная математика                                                                       14\n",
       "Статистика                                                                                  11\n",
       "Дискретная математика                                                                       11\n",
       "Математическая статистика                                                                   11\n",
       "Теория игр                                                                                  10\n",
       "Математическое моделирование                                                                10\n",
       "Теория вероятностей                                                                         10\n",
       "Численные методы                                                                             9\n",
       "Теории игр                                                                                   8\n",
       "Вычислительная математика                                                                    8\n",
       "Математический анализ                                                                        8\n",
       "Математическая логика                                                                        8\n",
       "Теория графов                                                                                7\n",
       "Оптимальное управление                                                                       5\n",
       "Динамические системы                                                                         5\n",
       "Физика                                                                                       4\n",
       "Оптика                                                                                       4\n",
       "Групповой анализ                                                                             4\n",
       "Теория струн                                                                                 4\n",
       "Атомная и ядерная физика                                                                     4\n",
       "Взаимодействие интенсивных потоков энергии с веществом                                       3\n",
       "Физика полей                                                                                 3\n",
       "Ядерная физика                                                                               3\n",
       "Гидродинамика                                                                                3\n",
       "Математические методы исследования операций                                                  3\n",
       "Теория чисел                                                                                 3\n",
       "Газодинамика                                                                                 3\n",
       "Моделирование и оптимизация процессов функционирования крупных инфраструктурных объектов     2\n",
       "Динамический хаос                                                                            2\n",
       "Дискретный анализ                                                                            2\n",
       "Нелинейная физика                                                                            2\n",
       "Плазма                                                                                       2\n",
       "Теория поля                                                                                  2\n",
       "Оптоэлектроника                                                                              2\n",
       "Нелинейная оптика                                                                            2\n",
       "Вейвлет анализ                                                                               2\n",
       "Динамика газожидкостных сред                                                                 1\n",
       "Физика кондесированного состояния                                                            1\n",
       "Физика конденсированных сред                                                                 1\n",
       "Физика горения                                                                               1\n",
       "Физика кластеров                                                                             1\n",
       "Физика элементарных частиц                                                                   1\n",
       "Экспериментальная физика высоких энергий                                                     1\n",
       "Нечеткие системы                                                                             1\n",
       "Физика ударный волн                                                                          1\n",
       "Страховая и финансовая математика                                                            1\n",
       "Термогазодинамика                                                                            1\n",
       "Нейтронная физика                                                                            1\n",
       "Физика магнитных явлений                                                                     1\n",
       "Акустика                                                                                     1\n",
       "Квантовая физика                                                                             1\n",
       "Теория колебаний                                                                             1\n",
       "Электродинамика                                                                              1\n",
       "Name: count, dtype: int64"
      ]
     },
     "execution_count": 165,
     "metadata": {},
     "output_type": "execute_result"
    }
   ],
   "source": [
    "all_interests = pd.Series(filter(lambda x: x != \" \", interests.tolist()))\n",
    "counts_interests = all_interests.value_counts()\n",
    "\n",
    "counts_interests"
   ]
  },
  {
   "cell_type": "markdown",
   "metadata": {},
   "source": [
    "Чтобы найти топ-5 интересов, надо учесть, что место топа может попасть несколько значений из-за одинакового их количества"
   ]
  },
  {
   "cell_type": "code",
   "execution_count": 160,
   "metadata": {},
   "outputs": [
    {
     "data": {
      "text/plain": [
       "Прикладная математика           14\n",
       "Статистика                      11\n",
       "Дискретная математика           11\n",
       "Математическая статистика       11\n",
       "Теория игр                      10\n",
       "Математическое моделирование    10\n",
       "Теория вероятностей             10\n",
       "Численные методы                 9\n",
       "Теории игр                       8\n",
       "Вычислительная математика        8\n",
       "Математический анализ            8\n",
       "Математическая логика            8\n",
       "Name: count, dtype: int64"
      ]
     },
     "execution_count": 160,
     "metadata": {},
     "output_type": "execute_result"
    }
   ],
   "source": [
    "unique_counts = counts_interests.unique()\n",
    "\n",
    "# Выбор топ-5 имен с учетом возможных равных значений\n",
    "top_5 = counts_interests[counts_interests.isin(pd.Series(unique_counts).nlargest(5))]\n",
    "\n",
    "top_5"
   ]
  },
  {
   "cell_type": "code",
   "execution_count": 203,
   "metadata": {},
   "outputs": [
    {
     "data": {
      "image/png": "[encoded data removed]",
      "text/plain": [
       "<Figure size 640x480 with 1 Axes>"
      ]
     },
     "metadata": {},
     "output_type": "display_data"
    }
   ],
   "source": [
    "top_5.plot(kind=\"pie\", autopct=\"%1.1f%%\")"
   ]
  },
  {
   "cell_type": "markdown",
   "metadata": {},
   "source": [
    "### 4. Создайте кросс-таблицу по полу и научным интересам (все, что не топ-5, замените на Другое)"
   ]
  },
  {
   "cell_type": "code",
   "execution_count": 200,
   "metadata": {},
   "outputs": [],
   "source": [
    "# присоединяем к интересам пол\n",
    "result_df = pd.merge(\n",
    "    interests.to_frame(),\n",
    "    df[\"Укажите пол_x\"],\n",
    "    left_index=True,\n",
    "    right_index=True,\n",
    ").reset_index()"
   ]
  },
  {
   "cell_type": "code",
   "execution_count": 201,
   "metadata": {},
   "outputs": [
    {
     "data": {
      "text/html": [
       "<div>\n",
       "<style scoped>\n",
       "    .dataframe tbody tr th:only-of-type {\n",
       "        vertical-align: middle;\n",
       "    }\n",
       "\n",
       "    .dataframe tbody tr th {\n",
       "        vertical-align: top;\n",
       "    }\n",
       "\n",
       "    .dataframe thead th {\n",
       "        text-align: right;\n",
       "    }\n",
       "</style>\n",
       "<table border=\"1\" class=\"dataframe\">\n",
       "  <thead>\n",
       "    <tr style=\"text-align: right;\">\n",
       "      <th></th>\n",
       "      <th>index</th>\n",
       "      <th>Укажите Ваши научные интересы:</th>\n",
       "      <th>Укажите пол_x</th>\n",
       "    </tr>\n",
       "  </thead>\n",
       "  <tbody>\n",
       "    <tr>\n",
       "      <th>0</th>\n",
       "      <td>0</td>\n",
       "      <td>Групповой анализ</td>\n",
       "      <td>женский</td>\n",
       "    </tr>\n",
       "    <tr>\n",
       "      <th>2</th>\n",
       "      <td>0</td>\n",
       "      <td>Прикладная математика</td>\n",
       "      <td>женский</td>\n",
       "    </tr>\n",
       "    <tr>\n",
       "      <th>4</th>\n",
       "      <td>0</td>\n",
       "      <td>Оптика</td>\n",
       "      <td>женский</td>\n",
       "    </tr>\n",
       "    <tr>\n",
       "      <th>6</th>\n",
       "      <td>0</td>\n",
       "      <td>Физика элементарных частиц</td>\n",
       "      <td>женский</td>\n",
       "    </tr>\n",
       "    <tr>\n",
       "      <th>8</th>\n",
       "      <td>0</td>\n",
       "      <td>Экспериментальная физика высоких энергий</td>\n",
       "      <td>женский</td>\n",
       "    </tr>\n",
       "    <tr>\n",
       "      <th>...</th>\n",
       "      <td>...</td>\n",
       "      <td>...</td>\n",
       "      <td>...</td>\n",
       "    </tr>\n",
       "    <tr>\n",
       "      <th>385</th>\n",
       "      <td>27</td>\n",
       "      <td>Физика конденсированных сред</td>\n",
       "      <td>женский</td>\n",
       "    </tr>\n",
       "    <tr>\n",
       "      <th>387</th>\n",
       "      <td>27</td>\n",
       "      <td>Физика кондесированного состояния</td>\n",
       "      <td>женский</td>\n",
       "    </tr>\n",
       "    <tr>\n",
       "      <th>389</th>\n",
       "      <td>27</td>\n",
       "      <td>Физика полей</td>\n",
       "      <td>женский</td>\n",
       "    </tr>\n",
       "    <tr>\n",
       "      <th>391</th>\n",
       "      <td>27</td>\n",
       "      <td>Электродинамика</td>\n",
       "      <td>женский</td>\n",
       "    </tr>\n",
       "    <tr>\n",
       "      <th>392</th>\n",
       "      <td>28</td>\n",
       "      <td>Прикладная математика</td>\n",
       "      <td>мужской</td>\n",
       "    </tr>\n",
       "  </tbody>\n",
       "</table>\n",
       "<p>211 rows × 3 columns</p>\n",
       "</div>"
      ],
      "text/plain": [
       "     index            Укажите Ваши научные интересы: Укажите пол_x\n",
       "0        0                          Групповой анализ       женский\n",
       "2        0                     Прикладная математика       женский\n",
       "4        0                                    Оптика       женский\n",
       "6        0                Физика элементарных частиц       женский\n",
       "8        0  Экспериментальная физика высоких энергий       женский\n",
       "..     ...                                       ...           ...\n",
       "385     27              Физика конденсированных сред       женский\n",
       "387     27         Физика кондесированного состояния       женский\n",
       "389     27                              Физика полей       женский\n",
       "391     27                           Электродинамика       женский\n",
       "392     28                     Прикладная математика       мужской\n",
       "\n",
       "[211 rows x 3 columns]"
      ]
     },
     "execution_count": 201,
     "metadata": {},
     "output_type": "execute_result"
    }
   ],
   "source": [
    "# Удаляем из таблицы интересы-пробел\n",
    "result_df = result_df.drop(\n",
    "    result_df[result_df[\"Укажите Ваши научные интересы:\"] == \" \"].index\n",
    ")\n",
    "\n",
    "result_df"
   ]
  },
  {
   "cell_type": "markdown",
   "metadata": {},
   "source": [
    "Все, что не топ-5 интересов - заменяем на \"Другое\""
   ]
  },
  {
   "cell_type": "code",
   "execution_count": 202,
   "metadata": {},
   "outputs": [
    {
     "data": {
      "text/plain": [
       "Укажите Ваши научные интересы:\n",
       "Другое                          93\n",
       "Прикладная математика           14\n",
       "Математическая статистика       11\n",
       "Статистика                      11\n",
       "Дискретная математика           11\n",
       "Математическое моделирование    10\n",
       "Теория игр                      10\n",
       "Теория вероятностей             10\n",
       "Численные методы                 9\n",
       "Вычислительная математика        8\n",
       "Математическая логика            8\n",
       "Математический анализ            8\n",
       "Теории игр                       8\n",
       "Name: count, dtype: int64"
      ]
     },
     "execution_count": 202,
     "metadata": {},
     "output_type": "execute_result"
    }
   ],
   "source": [
    "result_df[\"Укажите Ваши научные интересы:\"] = result_df[\n",
    "    \"Укажите Ваши научные интересы:\"\n",
    "].where(\n",
    "    result_df[\"Укажите Ваши научные интересы:\"].isin(top_5.index.tolist()),\n",
    "    other=\"Другое\",\n",
    ")\n",
    "\n",
    "result_df[\"Укажите Ваши научные интересы:\"].value_counts(dropna=False)"
   ]
  },
  {
   "cell_type": "code",
   "execution_count": 204,
   "metadata": {},
   "outputs": [
    {
     "data": {
      "text/html": [
       "<div>\n",
       "<style scoped>\n",
       "    .dataframe tbody tr th:only-of-type {\n",
       "        vertical-align: middle;\n",
       "    }\n",
       "\n",
       "    .dataframe tbody tr th {\n",
       "        vertical-align: top;\n",
       "    }\n",
       "\n",
       "    .dataframe thead th {\n",
       "        text-align: right;\n",
       "    }\n",
       "</style>\n",
       "<table border=\"1\" class=\"dataframe\">\n",
       "  <thead>\n",
       "    <tr style=\"text-align: right;\">\n",
       "      <th>Укажите Ваши научные интересы:</th>\n",
       "      <th>Вычислительная математика</th>\n",
       "      <th>Дискретная математика</th>\n",
       "      <th>Другое</th>\n",
       "      <th>Математическая логика</th>\n",
       "      <th>Математическая статистика</th>\n",
       "      <th>Математический анализ</th>\n",
       "      <th>Математическое моделирование</th>\n",
       "      <th>Прикладная математика</th>\n",
       "      <th>Статистика</th>\n",
       "      <th>Теории игр</th>\n",
       "      <th>Теория вероятностей</th>\n",
       "      <th>Теория игр</th>\n",
       "      <th>Численные методы</th>\n",
       "    </tr>\n",
       "    <tr>\n",
       "      <th>Укажите пол_x</th>\n",
       "      <th></th>\n",
       "      <th></th>\n",
       "      <th></th>\n",
       "      <th></th>\n",
       "      <th></th>\n",
       "      <th></th>\n",
       "      <th></th>\n",
       "      <th></th>\n",
       "      <th></th>\n",
       "      <th></th>\n",
       "      <th></th>\n",
       "      <th></th>\n",
       "      <th></th>\n",
       "    </tr>\n",
       "  </thead>\n",
       "  <tbody>\n",
       "    <tr>\n",
       "      <th>женский</th>\n",
       "      <td>1</td>\n",
       "      <td>2</td>\n",
       "      <td>25</td>\n",
       "      <td>2</td>\n",
       "      <td>4</td>\n",
       "      <td>1</td>\n",
       "      <td>2</td>\n",
       "      <td>4</td>\n",
       "      <td>2</td>\n",
       "      <td>1</td>\n",
       "      <td>4</td>\n",
       "      <td>2</td>\n",
       "      <td>2</td>\n",
       "    </tr>\n",
       "    <tr>\n",
       "      <th>мужской</th>\n",
       "      <td>7</td>\n",
       "      <td>9</td>\n",
       "      <td>68</td>\n",
       "      <td>6</td>\n",
       "      <td>7</td>\n",
       "      <td>7</td>\n",
       "      <td>8</td>\n",
       "      <td>10</td>\n",
       "      <td>9</td>\n",
       "      <td>7</td>\n",
       "      <td>6</td>\n",
       "      <td>8</td>\n",
       "      <td>7</td>\n",
       "    </tr>\n",
       "  </tbody>\n",
       "</table>\n",
       "</div>"
      ],
      "text/plain": [
       "Укажите Ваши научные интересы:  Вычислительная математика  \\\n",
       "Укажите пол_x                                               \n",
       "женский                                                 1   \n",
       "мужской                                                 7   \n",
       "\n",
       "Укажите Ваши научные интересы:  Дискретная математика  Другое  \\\n",
       "Укажите пол_x                                                   \n",
       "женский                                             2      25   \n",
       "мужской                                             9      68   \n",
       "\n",
       "Укажите Ваши научные интересы:  Математическая логика  \\\n",
       "Укажите пол_x                                           \n",
       "женский                                             2   \n",
       "мужской                                             6   \n",
       "\n",
       "Укажите Ваши научные интересы:  Математическая статистика  \\\n",
       "Укажите пол_x                                               \n",
       "женский                                                 4   \n",
       "мужской                                                 7   \n",
       "\n",
       "Укажите Ваши научные интересы:  Математический анализ  \\\n",
       "Укажите пол_x                                           \n",
       "женский                                             1   \n",
       "мужской                                             7   \n",
       "\n",
       "Укажите Ваши научные интересы:  Математическое моделирование  \\\n",
       "Укажите пол_x                                                  \n",
       "женский                                                    2   \n",
       "мужской                                                    8   \n",
       "\n",
       "Укажите Ваши научные интересы:  Прикладная математика  Статистика  Теории игр  \\\n",
       "Укажите пол_x                                                                   \n",
       "женский                                             4           2           1   \n",
       "мужской                                            10           9           7   \n",
       "\n",
       "Укажите Ваши научные интересы:  Теория вероятностей  Теория игр  \\\n",
       "Укажите пол_x                                                     \n",
       "женский                                           4           2   \n",
       "мужской                                           6           8   \n",
       "\n",
       "Укажите Ваши научные интересы:  Численные методы  \n",
       "Укажите пол_x                                     \n",
       "женский                                        2  \n",
       "мужской                                        7  "
      ]
     },
     "execution_count": 204,
     "metadata": {},
     "output_type": "execute_result"
    }
   ],
   "source": [
    "pd.crosstab(result_df[\"Укажите пол_x\"], result_df[\"Укажите Ваши научные интересы:\"])"
   ]
  },
  {
   "cell_type": "markdown",
   "metadata": {},
   "source": [
    "### 5. Сделайте сводную таблицу по научным интересам и направлениям обучения (в обоих случаях приведите переменные к максимум 5-6 категориальным значениям), в качестве значений ячеек используйте средний возраст."
   ]
  },
  {
   "cell_type": "code",
   "execution_count": 249,
   "metadata": {},
   "outputs": [
    {
     "data": {
      "text/html": [
       "<div>\n",
       "<style scoped>\n",
       "    .dataframe tbody tr th:only-of-type {\n",
       "        vertical-align: middle;\n",
       "    }\n",
       "\n",
       "    .dataframe tbody tr th {\n",
       "        vertical-align: top;\n",
       "    }\n",
       "\n",
       "    .dataframe thead th {\n",
       "        text-align: right;\n",
       "    }\n",
       "</style>\n",
       "<table border=\"1\" class=\"dataframe\">\n",
       "  <thead>\n",
       "    <tr style=\"text-align: right;\">\n",
       "      <th></th>\n",
       "      <th>index</th>\n",
       "      <th>Укажите Ваши научные интересы:</th>\n",
       "      <th>Укажите направление бакалавриата (числовой код, например 09.03.04), которое Вы закончили</th>\n",
       "      <th>Укажите возраст (полное число лет)_x</th>\n",
       "    </tr>\n",
       "  </thead>\n",
       "  <tbody>\n",
       "    <tr>\n",
       "      <th>0</th>\n",
       "      <td>0</td>\n",
       "      <td>Групповой анализ</td>\n",
       "      <td>01.03.02</td>\n",
       "      <td>22</td>\n",
       "    </tr>\n",
       "    <tr>\n",
       "      <th>2</th>\n",
       "      <td>0</td>\n",
       "      <td>Прикладная математика</td>\n",
       "      <td>01.03.02</td>\n",
       "      <td>22</td>\n",
       "    </tr>\n",
       "    <tr>\n",
       "      <th>4</th>\n",
       "      <td>0</td>\n",
       "      <td>Оптика</td>\n",
       "      <td>01.03.02</td>\n",
       "      <td>22</td>\n",
       "    </tr>\n",
       "    <tr>\n",
       "      <th>6</th>\n",
       "      <td>0</td>\n",
       "      <td>Физика элементарных частиц</td>\n",
       "      <td>01.03.02</td>\n",
       "      <td>22</td>\n",
       "    </tr>\n",
       "    <tr>\n",
       "      <th>8</th>\n",
       "      <td>0</td>\n",
       "      <td>Экспериментальная физика высоких энергий</td>\n",
       "      <td>01.03.02</td>\n",
       "      <td>22</td>\n",
       "    </tr>\n",
       "    <tr>\n",
       "      <th>...</th>\n",
       "      <td>...</td>\n",
       "      <td>...</td>\n",
       "      <td>...</td>\n",
       "      <td>...</td>\n",
       "    </tr>\n",
       "    <tr>\n",
       "      <th>385</th>\n",
       "      <td>27</td>\n",
       "      <td>Физика конденсированных сред</td>\n",
       "      <td>03.03.01</td>\n",
       "      <td>22</td>\n",
       "    </tr>\n",
       "    <tr>\n",
       "      <th>387</th>\n",
       "      <td>27</td>\n",
       "      <td>Физика кондесированного состояния</td>\n",
       "      <td>03.03.01</td>\n",
       "      <td>22</td>\n",
       "    </tr>\n",
       "    <tr>\n",
       "      <th>389</th>\n",
       "      <td>27</td>\n",
       "      <td>Физика полей</td>\n",
       "      <td>03.03.01</td>\n",
       "      <td>22</td>\n",
       "    </tr>\n",
       "    <tr>\n",
       "      <th>391</th>\n",
       "      <td>27</td>\n",
       "      <td>Электродинамика</td>\n",
       "      <td>03.03.01</td>\n",
       "      <td>22</td>\n",
       "    </tr>\n",
       "    <tr>\n",
       "      <th>392</th>\n",
       "      <td>28</td>\n",
       "      <td>Прикладная математика</td>\n",
       "      <td>5300</td>\n",
       "      <td>25</td>\n",
       "    </tr>\n",
       "  </tbody>\n",
       "</table>\n",
       "<p>211 rows × 4 columns</p>\n",
       "</div>"
      ],
      "text/plain": [
       "     index            Укажите Ваши научные интересы:  \\\n",
       "0        0                          Групповой анализ   \n",
       "2        0                     Прикладная математика   \n",
       "4        0                                    Оптика   \n",
       "6        0                Физика элементарных частиц   \n",
       "8        0  Экспериментальная физика высоких энергий   \n",
       "..     ...                                       ...   \n",
       "385     27              Физика конденсированных сред   \n",
       "387     27         Физика кондесированного состояния   \n",
       "389     27                              Физика полей   \n",
       "391     27                           Электродинамика   \n",
       "392     28                     Прикладная математика   \n",
       "\n",
       "    Укажите направление бакалавриата (числовой код, например 09.03.04), которое Вы закончили  \\\n",
       "0                                             01.03.02                                         \n",
       "2                                             01.03.02                                         \n",
       "4                                             01.03.02                                         \n",
       "6                                             01.03.02                                         \n",
       "8                                             01.03.02                                         \n",
       "..                                                 ...                                         \n",
       "385                                           03.03.01                                         \n",
       "387                                           03.03.01                                         \n",
       "389                                           03.03.01                                         \n",
       "391                                           03.03.01                                         \n",
       "392                                               5300                                         \n",
       "\n",
       "     Укажите возраст (полное число лет)_x  \n",
       "0                                      22  \n",
       "2                                      22  \n",
       "4                                      22  \n",
       "6                                      22  \n",
       "8                                      22  \n",
       "..                                    ...  \n",
       "385                                    22  \n",
       "387                                    22  \n",
       "389                                    22  \n",
       "391                                    22  \n",
       "392                                    25  \n",
       "\n",
       "[211 rows x 4 columns]"
      ]
     },
     "execution_count": 249,
     "metadata": {},
     "output_type": "execute_result"
    }
   ],
   "source": [
    "# присоединяем к интересам код направления\n",
    "result_df2 = pd.merge(\n",
    "    interests.to_frame(),\n",
    "    df[\n",
    "        [\n",
    "            \"Укажите направление бакалавриата (числовой код, например 09.03.04), которое Вы закончили\",\n",
    "            \"Укажите возраст (полное число лет)_x\",\n",
    "        ]\n",
    "    ],\n",
    "    left_index=True,\n",
    "    right_index=True,\n",
    ").reset_index()\n",
    "\n",
    "# Удаляем из таблицы интересы-пробел\n",
    "result_df2 = result_df2.drop(\n",
    "    result_df2[result_df2[\"Укажите Ваши научные интересы:\"] == \" \"].index\n",
    ")\n",
    "\n",
    "result_df2"
   ]
  },
  {
   "cell_type": "code",
   "execution_count": 250,
   "metadata": {},
   "outputs": [],
   "source": [
    "result_df2[\"Интересы, категория\"] = (\n",
    "    \"Другое\"  # По умолчанию присваиваем категорию \"Другое\"\n",
    ")\n",
    "\n",
    "result_df2.loc[\n",
    "    result_df2[\"Укажите Ваши научные интересы:\"].str.contains(\"физика\", case=False),\n",
    "    \"Интересы, категория\",\n",
    "] = \"Физика\"\n",
    "result_df2.loc[\n",
    "    result_df2[\"Укажите Ваши научные интересы:\"].str.contains(\"матем\", case=False),\n",
    "    \"Интересы, категория\",\n",
    "] = \"Математика\"\n",
    "\n",
    "result_df2.loc[\n",
    "    result_df2[\"Укажите Ваши научные интересы:\"].str.contains(\"теори\", case=False),\n",
    "    \"Интересы, категория\",\n",
    "] = \"Какая-нибудь теория\"\n",
    "\n",
    "result_df2.loc[\n",
    "    result_df2[\"Укажите Ваши научные интересы:\"].str.contains(\"статистика\", case=False),\n",
    "    \"Интересы, категория\",\n",
    "] = \"Статистика\""
   ]
  },
  {
   "cell_type": "code",
   "execution_count": 251,
   "metadata": {},
   "outputs": [
    {
     "data": {
      "text/plain": [
       "Интересы, категория\n",
       "Математика             63\n",
       "Другое                 55\n",
       "Какая-нибудь теория    45\n",
       "Физика                 26\n",
       "Статистика             22\n",
       "Name: count, dtype: int64"
      ]
     },
     "execution_count": 251,
     "metadata": {},
     "output_type": "execute_result"
    }
   ],
   "source": [
    "result_df2[\"Интересы, категория\"].value_counts(dropna=False)"
   ]
  },
  {
   "cell_type": "markdown",
   "metadata": {},
   "source": [
    "Выдялем 5 наиболее встречаемых кодов направлений"
   ]
  },
  {
   "cell_type": "code",
   "execution_count": 252,
   "metadata": {},
   "outputs": [
    {
     "data": {
      "text/plain": [
       "['01.03.02',\n",
       " '01.04.02',\n",
       " '03.03.01',\n",
       " '01.03.04',\n",
       " 'Программный инжиниринг (код не помню)']"
      ]
     },
     "execution_count": 252,
     "metadata": {},
     "output_type": "execute_result"
    }
   ],
   "source": [
    "five_cats_codes = (\n",
    "    result_df2[\n",
    "        \"Укажите направление бакалавриата (числовой код, например 09.03.04), которое Вы закончили\"\n",
    "    ]\n",
    "    .value_counts()\n",
    "    .head(5)\n",
    "    .index.tolist()\n",
    ")\n",
    "\n",
    "five_cats_codes"
   ]
  },
  {
   "cell_type": "markdown",
   "metadata": {},
   "source": [
    "И заменяем остальные коды на \"Другое\""
   ]
  },
  {
   "cell_type": "code",
   "execution_count": 253,
   "metadata": {},
   "outputs": [
    {
     "data": {
      "text/plain": [
       "Код, категория\n",
       "01.03.02                                 122\n",
       "Другое                                    34\n",
       "01.04.02                                  20\n",
       "03.03.01                                  15\n",
       "01.03.04                                  11\n",
       "Программный инжиниринг (код не помню)      9\n",
       "Name: count, dtype: int64"
      ]
     },
     "execution_count": 253,
     "metadata": {},
     "output_type": "execute_result"
    }
   ],
   "source": [
    "result_df2[\"Код, категория\"] = result_df2[\n",
    "    \"Укажите направление бакалавриата (числовой код, например 09.03.04), которое Вы закончили\"\n",
    "].where(\n",
    "    result_df2[\n",
    "        \"Укажите направление бакалавриата (числовой код, например 09.03.04), которое Вы закончили\"\n",
    "    ].isin(five_cats_codes),\n",
    "    other=\"Другое\",\n",
    ")\n",
    "\n",
    "result_df2[\"Код, категория\"].value_counts(dropna=False)"
   ]
  },
  {
   "cell_type": "code",
   "execution_count": 254,
   "metadata": {},
   "outputs": [
    {
     "data": {
      "text/html": [
       "<div>\n",
       "<style scoped>\n",
       "    .dataframe tbody tr th:only-of-type {\n",
       "        vertical-align: middle;\n",
       "    }\n",
       "\n",
       "    .dataframe tbody tr th {\n",
       "        vertical-align: top;\n",
       "    }\n",
       "\n",
       "    .dataframe thead th {\n",
       "        text-align: right;\n",
       "    }\n",
       "</style>\n",
       "<table border=\"1\" class=\"dataframe\">\n",
       "  <thead>\n",
       "    <tr style=\"text-align: right;\">\n",
       "      <th></th>\n",
       "      <th>index</th>\n",
       "      <th>Укажите Ваши научные интересы:</th>\n",
       "      <th>Укажите направление бакалавриата (числовой код, например 09.03.04), которое Вы закончили</th>\n",
       "      <th>Укажите возраст (полное число лет)_x</th>\n",
       "      <th>Интересы, категория</th>\n",
       "      <th>Код, категория</th>\n",
       "    </tr>\n",
       "  </thead>\n",
       "  <tbody>\n",
       "    <tr>\n",
       "      <th>0</th>\n",
       "      <td>0</td>\n",
       "      <td>Групповой анализ</td>\n",
       "      <td>01.03.02</td>\n",
       "      <td>22</td>\n",
       "      <td>Другое</td>\n",
       "      <td>01.03.02</td>\n",
       "    </tr>\n",
       "    <tr>\n",
       "      <th>2</th>\n",
       "      <td>0</td>\n",
       "      <td>Прикладная математика</td>\n",
       "      <td>01.03.02</td>\n",
       "      <td>22</td>\n",
       "      <td>Математика</td>\n",
       "      <td>01.03.02</td>\n",
       "    </tr>\n",
       "    <tr>\n",
       "      <th>4</th>\n",
       "      <td>0</td>\n",
       "      <td>Оптика</td>\n",
       "      <td>01.03.02</td>\n",
       "      <td>22</td>\n",
       "      <td>Другое</td>\n",
       "      <td>01.03.02</td>\n",
       "    </tr>\n",
       "    <tr>\n",
       "      <th>6</th>\n",
       "      <td>0</td>\n",
       "      <td>Физика элементарных частиц</td>\n",
       "      <td>01.03.02</td>\n",
       "      <td>22</td>\n",
       "      <td>Физика</td>\n",
       "      <td>01.03.02</td>\n",
       "    </tr>\n",
       "    <tr>\n",
       "      <th>8</th>\n",
       "      <td>0</td>\n",
       "      <td>Экспериментальная физика высоких энергий</td>\n",
       "      <td>01.03.02</td>\n",
       "      <td>22</td>\n",
       "      <td>Физика</td>\n",
       "      <td>01.03.02</td>\n",
       "    </tr>\n",
       "    <tr>\n",
       "      <th>...</th>\n",
       "      <td>...</td>\n",
       "      <td>...</td>\n",
       "      <td>...</td>\n",
       "      <td>...</td>\n",
       "      <td>...</td>\n",
       "      <td>...</td>\n",
       "    </tr>\n",
       "    <tr>\n",
       "      <th>385</th>\n",
       "      <td>27</td>\n",
       "      <td>Физика конденсированных сред</td>\n",
       "      <td>03.03.01</td>\n",
       "      <td>22</td>\n",
       "      <td>Физика</td>\n",
       "      <td>03.03.01</td>\n",
       "    </tr>\n",
       "    <tr>\n",
       "      <th>387</th>\n",
       "      <td>27</td>\n",
       "      <td>Физика кондесированного состояния</td>\n",
       "      <td>03.03.01</td>\n",
       "      <td>22</td>\n",
       "      <td>Физика</td>\n",
       "      <td>03.03.01</td>\n",
       "    </tr>\n",
       "    <tr>\n",
       "      <th>389</th>\n",
       "      <td>27</td>\n",
       "      <td>Физика полей</td>\n",
       "      <td>03.03.01</td>\n",
       "      <td>22</td>\n",
       "      <td>Физика</td>\n",
       "      <td>03.03.01</td>\n",
       "    </tr>\n",
       "    <tr>\n",
       "      <th>391</th>\n",
       "      <td>27</td>\n",
       "      <td>Электродинамика</td>\n",
       "      <td>03.03.01</td>\n",
       "      <td>22</td>\n",
       "      <td>Другое</td>\n",
       "      <td>03.03.01</td>\n",
       "    </tr>\n",
       "    <tr>\n",
       "      <th>392</th>\n",
       "      <td>28</td>\n",
       "      <td>Прикладная математика</td>\n",
       "      <td>5300</td>\n",
       "      <td>25</td>\n",
       "      <td>Математика</td>\n",
       "      <td>Другое</td>\n",
       "    </tr>\n",
       "  </tbody>\n",
       "</table>\n",
       "<p>211 rows × 6 columns</p>\n",
       "</div>"
      ],
      "text/plain": [
       "     index            Укажите Ваши научные интересы:  \\\n",
       "0        0                          Групповой анализ   \n",
       "2        0                     Прикладная математика   \n",
       "4        0                                    Оптика   \n",
       "6        0                Физика элементарных частиц   \n",
       "8        0  Экспериментальная физика высоких энергий   \n",
       "..     ...                                       ...   \n",
       "385     27              Физика конденсированных сред   \n",
       "387     27         Физика кондесированного состояния   \n",
       "389     27                              Физика полей   \n",
       "391     27                           Электродинамика   \n",
       "392     28                     Прикладная математика   \n",
       "\n",
       "    Укажите направление бакалавриата (числовой код, например 09.03.04), которое Вы закончили  \\\n",
       "0                                             01.03.02                                         \n",
       "2                                             01.03.02                                         \n",
       "4                                             01.03.02                                         \n",
       "6                                             01.03.02                                         \n",
       "8                                             01.03.02                                         \n",
       "..                                                 ...                                         \n",
       "385                                           03.03.01                                         \n",
       "387                                           03.03.01                                         \n",
       "389                                           03.03.01                                         \n",
       "391                                           03.03.01                                         \n",
       "392                                               5300                                         \n",
       "\n",
       "     Укажите возраст (полное число лет)_x Интересы, категория Код, категория  \n",
       "0                                      22              Другое       01.03.02  \n",
       "2                                      22          Математика       01.03.02  \n",
       "4                                      22              Другое       01.03.02  \n",
       "6                                      22              Физика       01.03.02  \n",
       "8                                      22              Физика       01.03.02  \n",
       "..                                    ...                 ...            ...  \n",
       "385                                    22              Физика       03.03.01  \n",
       "387                                    22              Физика       03.03.01  \n",
       "389                                    22              Физика       03.03.01  \n",
       "391                                    22              Другое       03.03.01  \n",
       "392                                    25          Математика         Другое  \n",
       "\n",
       "[211 rows x 6 columns]"
      ]
     },
     "execution_count": 254,
     "metadata": {},
     "output_type": "execute_result"
    }
   ],
   "source": [
    "result_df2"
   ]
  },
  {
   "cell_type": "markdown",
   "metadata": {},
   "source": [
    "Теперь может создать сводную таблицу:"
   ]
  },
  {
   "cell_type": "code",
   "execution_count": 255,
   "metadata": {},
   "outputs": [
    {
     "data": {
      "text/html": [
       "<div>\n",
       "<style scoped>\n",
       "    .dataframe tbody tr th:only-of-type {\n",
       "        vertical-align: middle;\n",
       "    }\n",
       "\n",
       "    .dataframe tbody tr th {\n",
       "        vertical-align: top;\n",
       "    }\n",
       "\n",
       "    .dataframe thead th {\n",
       "        text-align: right;\n",
       "    }\n",
       "</style>\n",
       "<table border=\"1\" class=\"dataframe\">\n",
       "  <thead>\n",
       "    <tr style=\"text-align: right;\">\n",
       "      <th>Код, категория</th>\n",
       "      <th>01.03.02</th>\n",
       "      <th>01.03.04</th>\n",
       "      <th>01.04.02</th>\n",
       "      <th>03.03.01</th>\n",
       "      <th>Другое</th>\n",
       "      <th>Программный инжиниринг (код не помню)</th>\n",
       "    </tr>\n",
       "    <tr>\n",
       "      <th>Интересы, категория</th>\n",
       "      <th></th>\n",
       "      <th></th>\n",
       "      <th></th>\n",
       "      <th></th>\n",
       "      <th></th>\n",
       "      <th></th>\n",
       "    </tr>\n",
       "  </thead>\n",
       "  <tbody>\n",
       "    <tr>\n",
       "      <th>Другое</th>\n",
       "      <td>22.064516</td>\n",
       "      <td>21.0</td>\n",
       "      <td>22.0</td>\n",
       "      <td>22.0</td>\n",
       "      <td>22.500000</td>\n",
       "      <td>22.0</td>\n",
       "    </tr>\n",
       "    <tr>\n",
       "      <th>Какая-нибудь теория</th>\n",
       "      <td>22.192308</td>\n",
       "      <td>21.0</td>\n",
       "      <td>22.0</td>\n",
       "      <td>22.0</td>\n",
       "      <td>22.454545</td>\n",
       "      <td>22.0</td>\n",
       "    </tr>\n",
       "    <tr>\n",
       "      <th>Математика</th>\n",
       "      <td>22.170732</td>\n",
       "      <td>21.0</td>\n",
       "      <td>22.0</td>\n",
       "      <td>NaN</td>\n",
       "      <td>23.875000</td>\n",
       "      <td>22.0</td>\n",
       "    </tr>\n",
       "    <tr>\n",
       "      <th>Статистика</th>\n",
       "      <td>22.200000</td>\n",
       "      <td>21.0</td>\n",
       "      <td>NaN</td>\n",
       "      <td>22.0</td>\n",
       "      <td>23.750000</td>\n",
       "      <td>22.0</td>\n",
       "    </tr>\n",
       "    <tr>\n",
       "      <th>Физика</th>\n",
       "      <td>22.000000</td>\n",
       "      <td>NaN</td>\n",
       "      <td>22.0</td>\n",
       "      <td>22.0</td>\n",
       "      <td>21.333333</td>\n",
       "      <td>NaN</td>\n",
       "    </tr>\n",
       "  </tbody>\n",
       "</table>\n",
       "</div>"
      ],
      "text/plain": [
       "Код, категория        01.03.02  01.03.04  01.04.02  03.03.01     Другое  \\\n",
       "Интересы, категория                                                       \n",
       "Другое               22.064516      21.0      22.0      22.0  22.500000   \n",
       "Какая-нибудь теория  22.192308      21.0      22.0      22.0  22.454545   \n",
       "Математика           22.170732      21.0      22.0       NaN  23.875000   \n",
       "Статистика           22.200000      21.0       NaN      22.0  23.750000   \n",
       "Физика               22.000000       NaN      22.0      22.0  21.333333   \n",
       "\n",
       "Код, категория       Программный инжиниринг (код не помню)  \n",
       "Интересы, категория                                         \n",
       "Другое                                                22.0  \n",
       "Какая-нибудь теория                                   22.0  \n",
       "Математика                                            22.0  \n",
       "Статистика                                            22.0  \n",
       "Физика                                                 NaN  "
      ]
     },
     "execution_count": 255,
     "metadata": {},
     "output_type": "execute_result"
    }
   ],
   "source": [
    "pivot_table = pd.pivot_table(\n",
    "    result_df2,\n",
    "    index=\"Интересы, категория\",\n",
    "    columns=\"Код, категория\",\n",
    "    values=\"Укажите возраст (полное число лет)_x\",\n",
    "    aggfunc=\"mean\",\n",
    ")\n",
    "\n",
    "pivot_table"
   ]
  }
 ],
 "metadata": {
  "kernelspec": {
   "display_name": "base",
   "language": "python",
   "name": "python3"
  },
  "language_info": {
   "codemirror_mode": {
    "name": "ipython",
    "version": 3
   },
   "file_extension": ".py",
   "mimetype": "text/x-python",
   "name": "python",
   "nbconvert_exporter": "python",
   "pygments_lexer": "ipython3",
   "version": "3.11.7"
  }
 },
 "nbformat": 4,
 "nbformat_minor": 2
}
